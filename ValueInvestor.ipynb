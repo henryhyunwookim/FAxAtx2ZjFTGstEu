{
 "cells": [
  {
   "attachments": {},
   "cell_type": "markdown",
   "metadata": {},
   "source": [
    "### <b>Table of Content</b>\n",
    "\n",
    "0. Import functions\n",
    "\n",
    "1. Load data\n",
    "\n",
    "2. \n",
    "\n",
    "2. Create Bollinger Bands"
   ]
  },
  {
   "attachments": {},
   "cell_type": "markdown",
   "metadata": {},
   "source": [
    "### <b>0. Import functions</b>"
   ]
  },
  {
   "cell_type": "code",
   "execution_count": 54,
   "metadata": {},
   "outputs": [],
   "source": [
    "import sys\n",
    "import os\n",
    "from pathlib import Path\n",
    "\n",
    "from utils.load import load_dataframes\n",
    "from utils.transform import convert_vol_to_float, add_moving_average, decompose_timeseries, normalize_scale"
   ]
  },
  {
   "attachments": {},
   "cell_type": "markdown",
   "metadata": {},
   "source": [
    "### <b>1. Load data</b>"
   ]
  },
  {
   "cell_type": "code",
   "execution_count": 55,
   "metadata": {},
   "outputs": [
    {
     "name": "stdout",
     "output_type": "stream",
     "text": [
      "File 2020Q1Q2Q3Q4-2021Q1.xlsx already exists in c:\\Users\\Admin\\Documents\\GitHub\\Apziva\\FAxAtx2ZjFTGstEu\\data.\n"
     ]
    }
   ],
   "source": [
    "# Details of the source file in G Drive\n",
    "base_url = \"https://drive.google.com/file/d/\"\n",
    "file_id = \"1MiunF_O8eNWIcfaOA4PVm668RN7FgLNA0a6U4LWf5Bk\"\n",
    "file_url = f\"{base_url}{file_id}\"\n",
    "file_name = \"2020Q1Q2Q3Q4-2021Q1.xlsx\"\n",
    "\n",
    "# Manually define sheet names as xlsx files have a 31-character limitation on sheet names.\n",
    "full_sheet_names = [\n",
    "    \"Russia - Sberbank Rossii PAO (SBER)\",\n",
    "    \"Turkey - Koc Holding AS (KCHOL)\",\n",
    "    \"Egypt - Medinet Nasr Housing (MNHD)\",\n",
    "    \"Brazil - Minerva SA/Brazil (BEEF3)\",\n",
    "    \"Argentina - Pampa Energia SA (PAMP)\",\n",
    "    \"Colombia - Cementos Argos SA (CCB)\",\n",
    "    \"South Africa - Impala Platinum Holdings Ltd (IMPJ)\",\n",
    "    \"South Korea - Dongkuk Steel Mill Co Ltd (001230)\"\n",
    "]\n",
    "\n",
    "# Details of local directories\n",
    "root_dir = sys.path[0]\n",
    "download_dir = Path(root_dir) / \"data\"\n",
    "file_path = download_dir / file_name\n",
    "\n",
    "if os.path.exists(file_path):\n",
    "    print(f\"File {file_name} already exists in {download_dir}.\")\n",
    "else:\n",
    "    if os.getcwd() != download_dir:\n",
    "        os.chdir(download_dir)\n",
    "    print(f\"File {file_name} is not found in {download_dir}.\")\n",
    "    !gdown 1MiunF_O8eNWIcfaOA4PVm668RN7FgLNA0a6U4LWf5Bk\n",
    "\n",
    "if os.getcwd() != root_dir:\n",
    "    os.chdir(root_dir)"
   ]
  },
  {
   "attachments": {},
   "cell_type": "markdown",
   "metadata": {},
   "source": [
    "### <b>2. Perform basic EDA</b>"
   ]
  },
  {
   "cell_type": "code",
   "execution_count": 56,
   "metadata": {},
   "outputs": [
    {
     "name": "stdout",
     "output_type": "stream",
     "text": [
      "8 DataFrames loaded with the following sheet names:\n",
      "\n",
      "Russia - Sberbank Rossii PAO (SBER)\n",
      "Turkey - Koc Holding AS (KCHOL)\n",
      "Egypt - Medinet Nasr Housing (MNHD)\n",
      "Brazil - Minerva SA/Brazil (BEEF3)\n",
      "Argentina - Pampa Energia SA (PAMP)\n",
      "Colombia - Cementos Argos SA (CCB)\n",
      "South Africa - Impala Platinum Holdings Ltd (IMPJ)\n",
      "South Korea - Dongkuk Steel Mill Co Ltd (001230)\n",
      "\n",
      "\n",
      "Basic info of the first DateFrame:\n",
      "\n",
      "<class 'pandas.core.frame.DataFrame'>\n",
      "RangeIndex: 311 entries, 0 to 310\n",
      "Data columns (total 7 columns):\n",
      " #   Column    Non-Null Count  Dtype         \n",
      "---  ------    --------------  -----         \n",
      " 0   Date      311 non-null    datetime64[ns]\n",
      " 1   Price     311 non-null    float64       \n",
      " 2   Open      311 non-null    float64       \n",
      " 3   High      311 non-null    float64       \n",
      " 4   Low       311 non-null    float64       \n",
      " 5   Vol.      311 non-null    object        \n",
      " 6   Change %  311 non-null    float64       \n",
      "dtypes: datetime64[ns](1), float64(5), object(1)\n",
      "memory usage: 17.1+ KB\n",
      "None\n",
      "\n",
      "\n",
      "Tail of the first DataFrame:\n"
     ]
    },
    {
     "data": {
      "text/html": [
       "<div>\n",
       "<style scoped>\n",
       "    .dataframe tbody tr th:only-of-type {\n",
       "        vertical-align: middle;\n",
       "    }\n",
       "\n",
       "    .dataframe tbody tr th {\n",
       "        vertical-align: top;\n",
       "    }\n",
       "\n",
       "    .dataframe thead th {\n",
       "        text-align: right;\n",
       "    }\n",
       "</style>\n",
       "<table border=\"1\" class=\"dataframe\">\n",
       "  <thead>\n",
       "    <tr style=\"text-align: right;\">\n",
       "      <th></th>\n",
       "      <th>Date</th>\n",
       "      <th>Price</th>\n",
       "      <th>Open</th>\n",
       "      <th>High</th>\n",
       "      <th>Low</th>\n",
       "      <th>Vol.</th>\n",
       "      <th>Change %</th>\n",
       "    </tr>\n",
       "  </thead>\n",
       "  <tbody>\n",
       "    <tr>\n",
       "      <th>306</th>\n",
       "      <td>2020-01-10</td>\n",
       "      <td>258.19</td>\n",
       "      <td>257.86</td>\n",
       "      <td>259.25</td>\n",
       "      <td>256.88</td>\n",
       "      <td>18.85M</td>\n",
       "      <td>0.0008</td>\n",
       "    </tr>\n",
       "    <tr>\n",
       "      <th>307</th>\n",
       "      <td>2020-01-09</td>\n",
       "      <td>257.99</td>\n",
       "      <td>259.40</td>\n",
       "      <td>261.76</td>\n",
       "      <td>257.01</td>\n",
       "      <td>38.33M</td>\n",
       "      <td>-0.0045</td>\n",
       "    </tr>\n",
       "    <tr>\n",
       "      <th>308</th>\n",
       "      <td>2020-01-08</td>\n",
       "      <td>259.15</td>\n",
       "      <td>253.57</td>\n",
       "      <td>259.15</td>\n",
       "      <td>253.03</td>\n",
       "      <td>40.82M</td>\n",
       "      <td>0.0207</td>\n",
       "    </tr>\n",
       "    <tr>\n",
       "      <th>309</th>\n",
       "      <td>2020-01-06</td>\n",
       "      <td>253.90</td>\n",
       "      <td>254.75</td>\n",
       "      <td>254.84</td>\n",
       "      <td>251.40</td>\n",
       "      <td>22.35M</td>\n",
       "      <td>-0.0043</td>\n",
       "    </tr>\n",
       "    <tr>\n",
       "      <th>310</th>\n",
       "      <td>2020-01-03</td>\n",
       "      <td>255.00</td>\n",
       "      <td>255.99</td>\n",
       "      <td>258.19</td>\n",
       "      <td>253.70</td>\n",
       "      <td>35.85M</td>\n",
       "      <td>0.0010</td>\n",
       "    </tr>\n",
       "  </tbody>\n",
       "</table>\n",
       "</div>"
      ],
      "text/plain": [
       "          Date   Price    Open    High     Low    Vol.  Change %\n",
       "306 2020-01-10  258.19  257.86  259.25  256.88  18.85M    0.0008\n",
       "307 2020-01-09  257.99  259.40  261.76  257.01  38.33M   -0.0045\n",
       "308 2020-01-08  259.15  253.57  259.15  253.03  40.82M    0.0207\n",
       "309 2020-01-06  253.90  254.75  254.84  251.40  22.35M   -0.0043\n",
       "310 2020-01-03  255.00  255.99  258.19  253.70  35.85M    0.0010"
      ]
     },
     "execution_count": 56,
     "metadata": {},
     "output_type": "execute_result"
    }
   ],
   "source": [
    "data_dfs = load_dataframes(file_path, full_sheet_names)\n",
    "print(f\"{len(data_dfs)} DataFrames loaded with the following sheet names:\\n\")\n",
    "for sheet_name in full_sheet_names:\n",
    "    print(sheet_name)\n",
    "\n",
    "print(\"\\n\\nBasic info of the first DateFrame:\\n\")\n",
    "print(data_dfs[full_sheet_names[0]].info())\n",
    "\n",
    "print(\"\\n\\nTail of the first DataFrame:\")\n",
    "data_dfs[full_sheet_names[0]].tail()"
   ]
  },
  {
   "attachments": {},
   "cell_type": "markdown",
   "metadata": {},
   "source": [
    "some description of the data set to be added."
   ]
  },
  {
   "attachments": {},
   "cell_type": "markdown",
   "metadata": {},
   "source": [
    "### <b>3. Transform data types and split data into train and test sets</b>"
   ]
  },
  {
   "attachments": {},
   "cell_type": "markdown",
   "metadata": {},
   "source": [
    "Convert the Vol. column from string (object) to float so that it can be plotted and fed into a machine learning model.\n",
    "\n",
    "Also, only select data from 2020 as training data and data from 2021 as test data."
   ]
  },
  {
   "cell_type": "code",
   "execution_count": 57,
   "metadata": {},
   "outputs": [],
   "source": [
    "train_dfs = {}\n",
    "for name, df in data_dfs.items():\n",
    "    df_copy = df.copy()\n",
    "    df_copy['Vol.'] = df_copy['Vol.'].apply(convert_vol_to_float)\n",
    "    train_df = df_copy[df_copy['Date'].dt.year == 2020]\\\n",
    "            .set_index('Date').sort_index()\\\n",
    "            .rename(columns={'Price': 'Close'})\n",
    "    test_df = df_copy[df_copy['Date'].dt.year == 2021]\\\n",
    "            .set_index('Date').sort_index()\\\n",
    "            .rename(columns={'Price': 'Close'})\n",
    "    train_dfs[name] = (train_df, test_df)"
   ]
  },
  {
   "attachments": {},
   "cell_type": "markdown",
   "metadata": {},
   "source": [
    "### <b>3. Add features and plot data</b>"
   ]
  },
  {
   "cell_type": "code",
   "execution_count": 58,
   "metadata": {},
   "outputs": [],
   "source": [
    "stock_name_1 = full_sheet_names[0]\n",
    "train_df_1, test_df_1 = train_dfs[stock_name_1]"
   ]
  },
  {
   "attachments": {},
   "cell_type": "markdown",
   "metadata": {},
   "source": [
    "- 3-1. add weekly/monthly/quarterly rolling average (or simple moving average; SMA), EMA (exponential MA)\n",
    "\n",
    "One advantage of the EMA over SMA is that EMA is more responsive to price changes, which makes it useful for short-term trading.\n",
    "    SMA assigns equal weights to all historical data points,\n",
    "    EMA applies higher weights to recent prices"
   ]
  },
  {
   "cell_type": "code",
   "execution_count": 59,
   "metadata": {},
   "outputs": [],
   "source": [
    "train_df_1 = add_moving_average(train_df_1)\n",
    "test_df_1 = add_moving_average(test_df_1)"
   ]
  },
  {
   "attachments": {},
   "cell_type": "markdown",
   "metadata": {},
   "source": [
    "- 3-2. STL decomposition (Seasonal and Trend decomposition using Loess (locally estimated scatterplot smoothing?))"
   ]
  },
  {
   "cell_type": "code",
   "execution_count": 60,
   "metadata": {},
   "outputs": [
    {
     "name": "stdout",
     "output_type": "stream",
     "text": [
      "Plot seasonal componets of train_df_1:\n"
     ]
    },
    {
     "data": {
      "image/png": "[encoded data removed]",
      "text/plain": [
       "<Figure size 1200x800 with 4 Axes>"
      ]
     },
     "metadata": {},
     "output_type": "display_data"
    }
   ],
   "source": [
    "from pylab import rcParams\n",
    "rcParams['figure.figsize'] = 12, 8\n",
    "\n",
    "print(\"Plot seasonal componets of train_df_1:\")\n",
    "train_df_1 = decompose_timeseries(df=train_df_1, frequency='D', column='Close', add_to_df=True, plot=True)\n",
    "test_df_1 = decompose_timeseries(df=test_df_1, frequency='D', column='Close', add_to_df=True, plot=False)"
   ]
  },
  {
   "attachments": {},
   "cell_type": "markdown",
   "metadata": {},
   "source": [
    "Through decomposition, we can see that the time series data is significantly dependent on seasonality."
   ]
  },
  {
   "attachments": {},
   "cell_type": "markdown",
   "metadata": {},
   "source": [
    "- 3-3. PACF: the autocorrelation function\n",
    "\n",
    "The PACF is an alternative to the ACF. Rather than giving the autocorrelations, it gives you the partial autocorrelation. This autocorrelation is called partial, because with each step back in the past, only additional autocorrelation is listed. This is different from the ACF, as the ACF contains duplicate correlations when variability can be explained by multiple points in time.\n",
    "\n",
    "you will see a blue area in the ACF and PACF plots, which depicts the 95% confidence interval and is in indicator for the significance threshold. That means, anything within the blue area is statistically close to zero and anything outside the blue area is statistically non-zero.\n",
    "\n",
    "The autocorrelation analysis helps in detecting hidden patterns and seasonality and in checking for randomness. It is especially important when you intend to use an ARIMA model for forecasting because the autocorrelation analysis helps to identify the AR and MA parameters for the ARIMA model."
   ]
  },
  {
   "cell_type": "code",
   "execution_count": 61,
   "metadata": {},
   "outputs": [],
   "source": [
    "# from statsmodels.graphics.tsaplots import plot_acf\n",
    "# plot_acf(train_df_1['Close'])"
   ]
  },
  {
   "cell_type": "code",
   "execution_count": 62,
   "metadata": {},
   "outputs": [
    {
     "data": {
      "image/png": "[encoded data removed]",
      "text/plain": [
       "<Figure size 1200x200 with 1 Axes>"
      ]
     },
     "execution_count": 62,
     "metadata": {},
     "output_type": "execute_result"
    },
    {
     "data": {
      "image/png": "[encoded data removed]",
      "text/plain": [
       "<Figure size 1200x200 with 1 Axes>"
      ]
     },
     "metadata": {},
     "output_type": "display_data"
    }
   ],
   "source": [
    "rcParams['figure.figsize'] = 12, 2\n",
    "from statsmodels.graphics.tsaplots import plot_pacf\n",
    "plot_pacf(train_df_1['Close'], method='ywm')"
   ]
  },
  {
   "attachments": {},
   "cell_type": "markdown",
   "metadata": {},
   "source": [
    "### * week number of the year, month, weekday, etc. can be added as separate columns too.\n",
    "hypothesis: weekday will matter in prediction.\n",
    "simple way to check: add the weekday column and compute the groupby average to see if each weekday is different from the other weekdays."
   ]
  },
  {
   "attachments": {},
   "cell_type": "markdown",
   "metadata": {},
   "source": [
    "### <b>4. normalize scales</b>\n",
    "\n",
    "* use the StandardScaler, rather than the MinMaxScaler,\n",
    "The reason is that stock prices are ever-changing, and there are no true min or max values.\n",
    "It doesn’t make sense to use the MinMaxScaler, although this choice probably won’t lead to\n",
    "disastrous results at the end of the day;"
   ]
  },
  {
   "cell_type": "code",
   "execution_count": 63,
   "metadata": {},
   "outputs": [
    {
     "data": {
      "text/html": [
       "<div>\n",
       "<style scoped>\n",
       "    .dataframe tbody tr th:only-of-type {\n",
       "        vertical-align: middle;\n",
       "    }\n",
       "\n",
       "    .dataframe tbody tr th {\n",
       "        vertical-align: top;\n",
       "    }\n",
       "\n",
       "    .dataframe thead th {\n",
       "        text-align: right;\n",
       "    }\n",
       "</style>\n",
       "<table border=\"1\" class=\"dataframe\">\n",
       "  <thead>\n",
       "    <tr style=\"text-align: right;\">\n",
       "      <th></th>\n",
       "      <th>Close</th>\n",
       "      <th>Open</th>\n",
       "      <th>High</th>\n",
       "      <th>Low</th>\n",
       "      <th>Vol.</th>\n",
       "      <th>Change %</th>\n",
       "      <th>Weekly SMA</th>\n",
       "      <th>Monthly SMA</th>\n",
       "      <th>Quarterly SMA</th>\n",
       "      <th>Weekly EMA</th>\n",
       "      <th>Monthly EMA</th>\n",
       "      <th>Quarterly EMA</th>\n",
       "      <th>Trend</th>\n",
       "      <th>Seasonal</th>\n",
       "      <th>Residual</th>\n",
       "    </tr>\n",
       "    <tr>\n",
       "      <th>Date</th>\n",
       "      <th></th>\n",
       "      <th></th>\n",
       "      <th></th>\n",
       "      <th></th>\n",
       "      <th></th>\n",
       "      <th></th>\n",
       "      <th></th>\n",
       "      <th></th>\n",
       "      <th></th>\n",
       "      <th></th>\n",
       "      <th></th>\n",
       "      <th></th>\n",
       "      <th></th>\n",
       "      <th></th>\n",
       "      <th></th>\n",
       "    </tr>\n",
       "  </thead>\n",
       "  <tbody>\n",
       "    <tr>\n",
       "      <th>2020-01-03</th>\n",
       "      <td>255.00</td>\n",
       "      <td>1.198377</td>\n",
       "      <td>1.180675</td>\n",
       "      <td>1.212502</td>\n",
       "      <td>-0.940018</td>\n",
       "      <td>0.020361</td>\n",
       "      <td>NaN</td>\n",
       "      <td>NaN</td>\n",
       "      <td>NaN</td>\n",
       "      <td>1.209830</td>\n",
       "      <td>1.442283</td>\n",
       "      <td>1.713033</td>\n",
       "      <td>NaN</td>\n",
       "      <td>-0.883419</td>\n",
       "      <td>NaN</td>\n",
       "    </tr>\n",
       "    <tr>\n",
       "      <th>2020-01-06</th>\n",
       "      <td>253.90</td>\n",
       "      <td>1.151812</td>\n",
       "      <td>1.054281</td>\n",
       "      <td>1.126899</td>\n",
       "      <td>-1.269451</td>\n",
       "      <td>-0.208073</td>\n",
       "      <td>NaN</td>\n",
       "      <td>NaN</td>\n",
       "      <td>NaN</td>\n",
       "      <td>1.185268</td>\n",
       "      <td>1.416045</td>\n",
       "      <td>1.682007</td>\n",
       "      <td>1.248684</td>\n",
       "      <td>-1.036980</td>\n",
       "      <td>-0.438417</td>\n",
       "    </tr>\n",
       "    <tr>\n",
       "      <th>2020-01-08</th>\n",
       "      <td>259.15</td>\n",
       "      <td>1.107501</td>\n",
       "      <td>1.216895</td>\n",
       "      <td>1.187565</td>\n",
       "      <td>-0.818738</td>\n",
       "      <td>0.869443</td>\n",
       "      <td>NaN</td>\n",
       "      <td>NaN</td>\n",
       "      <td>NaN</td>\n",
       "      <td>1.266012</td>\n",
       "      <td>1.493548</td>\n",
       "      <td>1.771466</td>\n",
       "      <td>1.283935</td>\n",
       "      <td>1.740114</td>\n",
       "      <td>0.518910</td>\n",
       "    </tr>\n",
       "    <tr>\n",
       "      <th>2020-01-09</th>\n",
       "      <td>257.99</td>\n",
       "      <td>1.326428</td>\n",
       "      <td>1.315369</td>\n",
       "      <td>1.335695</td>\n",
       "      <td>-0.879500</td>\n",
       "      <td>-0.216693</td>\n",
       "      <td>NaN</td>\n",
       "      <td>NaN</td>\n",
       "      <td>NaN</td>\n",
       "      <td>1.288193</td>\n",
       "      <td>1.517458</td>\n",
       "      <td>1.799466</td>\n",
       "      <td>1.301560</td>\n",
       "      <td>-0.201610</td>\n",
       "      <td>0.283066</td>\n",
       "    </tr>\n",
       "    <tr>\n",
       "      <th>2020-01-10</th>\n",
       "      <td>258.19</td>\n",
       "      <td>1.268598</td>\n",
       "      <td>1.220668</td>\n",
       "      <td>1.330857</td>\n",
       "      <td>-1.354859</td>\n",
       "      <td>0.011741</td>\n",
       "      <td>NaN</td>\n",
       "      <td>NaN</td>\n",
       "      <td>NaN</td>\n",
       "      <td>1.303364</td>\n",
       "      <td>1.533862</td>\n",
       "      <td>1.818592</td>\n",
       "      <td>1.348524</td>\n",
       "      <td>-0.883419</td>\n",
       "      <td>0.063590</td>\n",
       "    </tr>\n",
       "    <tr>\n",
       "      <th>...</th>\n",
       "      <td>...</td>\n",
       "      <td>...</td>\n",
       "      <td>...</td>\n",
       "      <td>...</td>\n",
       "      <td>...</td>\n",
       "      <td>...</td>\n",
       "      <td>...</td>\n",
       "      <td>...</td>\n",
       "      <td>...</td>\n",
       "      <td>...</td>\n",
       "      <td>...</td>\n",
       "      <td>...</td>\n",
       "      <td>...</td>\n",
       "      <td>...</td>\n",
       "      <td>...</td>\n",
       "    </tr>\n",
       "    <tr>\n",
       "      <th>2020-12-24</th>\n",
       "      <td>269.32</td>\n",
       "      <td>1.798828</td>\n",
       "      <td>1.732657</td>\n",
       "      <td>1.712347</td>\n",
       "      <td>-0.775058</td>\n",
       "      <td>-0.147732</td>\n",
       "      <td>1.820316</td>\n",
       "      <td>2.157332</td>\n",
       "      <td>1.967955</td>\n",
       "      <td>1.783551</td>\n",
       "      <td>1.697671</td>\n",
       "      <td>0.869956</td>\n",
       "      <td>1.719596</td>\n",
       "      <td>-0.201610</td>\n",
       "      <td>0.442502</td>\n",
       "    </tr>\n",
       "    <tr>\n",
       "      <th>2020-12-25</th>\n",
       "      <td>270.64</td>\n",
       "      <td>1.723349</td>\n",
       "      <td>1.663989</td>\n",
       "      <td>1.755149</td>\n",
       "      <td>-1.522260</td>\n",
       "      <td>0.188453</td>\n",
       "      <td>1.777480</td>\n",
       "      <td>2.203835</td>\n",
       "      <td>2.003241</td>\n",
       "      <td>1.792902</td>\n",
       "      <td>1.727779</td>\n",
       "      <td>0.907419</td>\n",
       "      <td>1.790926</td>\n",
       "      <td>-0.883419</td>\n",
       "      <td>0.372852</td>\n",
       "    </tr>\n",
       "    <tr>\n",
       "      <th>2020-12-28</th>\n",
       "      <td>274.70</td>\n",
       "      <td>1.758272</td>\n",
       "      <td>1.822076</td>\n",
       "      <td>1.809115</td>\n",
       "      <td>-0.862175</td>\n",
       "      <td>0.623770</td>\n",
       "      <td>1.756368</td>\n",
       "      <td>2.248758</td>\n",
       "      <td>2.050930</td>\n",
       "      <td>1.839575</td>\n",
       "      <td>1.768037</td>\n",
       "      <td>0.949007</td>\n",
       "      <td>NaN</td>\n",
       "      <td>-1.036980</td>\n",
       "      <td>NaN</td>\n",
       "    </tr>\n",
       "    <tr>\n",
       "      <th>2020-12-29</th>\n",
       "      <td>272.00</td>\n",
       "      <td>1.946406</td>\n",
       "      <td>1.868861</td>\n",
       "      <td>1.866060</td>\n",
       "      <td>-0.862663</td>\n",
       "      <td>-0.445126</td>\n",
       "      <td>1.766591</td>\n",
       "      <td>2.292991</td>\n",
       "      <td>2.096993</td>\n",
       "      <td>1.848206</td>\n",
       "      <td>1.797656</td>\n",
       "      <td>0.986394</td>\n",
       "      <td>NaN</td>\n",
       "      <td>0.392147</td>\n",
       "      <td>NaN</td>\n",
       "    </tr>\n",
       "    <tr>\n",
       "      <th>2020-12-30</th>\n",
       "      <td>271.65</td>\n",
       "      <td>1.817979</td>\n",
       "      <td>1.786233</td>\n",
       "      <td>1.823631</td>\n",
       "      <td>-1.045437</td>\n",
       "      <td>-0.078771</td>\n",
       "      <td>1.821372</td>\n",
       "      <td>2.341664</td>\n",
       "      <td>2.141993</td>\n",
       "      <td>1.851259</td>\n",
       "      <td>1.824321</td>\n",
       "      <td>1.022535</td>\n",
       "      <td>NaN</td>\n",
       "      <td>1.740114</td>\n",
       "      <td>NaN</td>\n",
       "    </tr>\n",
       "  </tbody>\n",
       "</table>\n",
       "<p>250 rows × 15 columns</p>\n",
       "</div>"
      ],
      "text/plain": [
       "             Close      Open      High       Low      Vol.  Change %  \\\n",
       "Date                                                                   \n",
       "2020-01-03  255.00  1.198377  1.180675  1.212502 -0.940018  0.020361   \n",
       "2020-01-06  253.90  1.151812  1.054281  1.126899 -1.269451 -0.208073   \n",
       "2020-01-08  259.15  1.107501  1.216895  1.187565 -0.818738  0.869443   \n",
       "2020-01-09  257.99  1.326428  1.315369  1.335695 -0.879500 -0.216693   \n",
       "2020-01-10  258.19  1.268598  1.220668  1.330857 -1.354859  0.011741   \n",
       "...            ...       ...       ...       ...       ...       ...   \n",
       "2020-12-24  269.32  1.798828  1.732657  1.712347 -0.775058 -0.147732   \n",
       "2020-12-25  270.64  1.723349  1.663989  1.755149 -1.522260  0.188453   \n",
       "2020-12-28  274.70  1.758272  1.822076  1.809115 -0.862175  0.623770   \n",
       "2020-12-29  272.00  1.946406  1.868861  1.866060 -0.862663 -0.445126   \n",
       "2020-12-30  271.65  1.817979  1.786233  1.823631 -1.045437 -0.078771   \n",
       "\n",
       "            Weekly SMA  Monthly SMA  Quarterly SMA  Weekly EMA  Monthly EMA  \\\n",
       "Date                                                                          \n",
       "2020-01-03         NaN          NaN            NaN    1.209830     1.442283   \n",
       "2020-01-06         NaN          NaN            NaN    1.185268     1.416045   \n",
       "2020-01-08         NaN          NaN            NaN    1.266012     1.493548   \n",
       "2020-01-09         NaN          NaN            NaN    1.288193     1.517458   \n",
       "2020-01-10         NaN          NaN            NaN    1.303364     1.533862   \n",
       "...                ...          ...            ...         ...          ...   \n",
       "2020-12-24    1.820316     2.157332       1.967955    1.783551     1.697671   \n",
       "2020-12-25    1.777480     2.203835       2.003241    1.792902     1.727779   \n",
       "2020-12-28    1.756368     2.248758       2.050930    1.839575     1.768037   \n",
       "2020-12-29    1.766591     2.292991       2.096993    1.848206     1.797656   \n",
       "2020-12-30    1.821372     2.341664       2.141993    1.851259     1.824321   \n",
       "\n",
       "            Quarterly EMA     Trend  Seasonal  Residual  \n",
       "Date                                                     \n",
       "2020-01-03       1.713033       NaN -0.883419       NaN  \n",
       "2020-01-06       1.682007  1.248684 -1.036980 -0.438417  \n",
       "2020-01-08       1.771466  1.283935  1.740114  0.518910  \n",
       "2020-01-09       1.799466  1.301560 -0.201610  0.283066  \n",
       "2020-01-10       1.818592  1.348524 -0.883419  0.063590  \n",
       "...                   ...       ...       ...       ...  \n",
       "2020-12-24       0.869956  1.719596 -0.201610  0.442502  \n",
       "2020-12-25       0.907419  1.790926 -0.883419  0.372852  \n",
       "2020-12-28       0.949007       NaN -1.036980       NaN  \n",
       "2020-12-29       0.986394       NaN  0.392147       NaN  \n",
       "2020-12-30       1.022535       NaN  1.740114       NaN  \n",
       "\n",
       "[250 rows x 15 columns]"
      ]
     },
     "execution_count": 63,
     "metadata": {},
     "output_type": "execute_result"
    }
   ],
   "source": [
    "normalized_train_df_1, normalized_test_df_1 = normalize_scale(train_df_1, test_df_1, method=\"standard\", exclude_column='Close')\n",
    "normalized_train_df_1"
   ]
  },
  {
   "cell_type": "code",
   "execution_count": 64,
   "metadata": {},
   "outputs": [
    {
     "data": {
      "image/png": "[encoded data removed]",
      "text/plain": [
       "<Figure size 1200x200 with 1 Axes>"
      ]
     },
     "metadata": {},
     "output_type": "display_data"
    }
   ],
   "source": [
    "import matplotlib.pyplot as plt\n",
    "\n",
    "train_df_1['Quarterly EMA'].plot(label='Quarterly EMA')\n",
    "train_df_1['Quarterly SMA'].plot(label='Quarterly SMA')\n",
    "plt.legend();"
   ]
  },
  {
   "cell_type": "code",
   "execution_count": 65,
   "metadata": {},
   "outputs": [
    {
     "data": {
      "image/png": "[encoded data removed]",
      "text/plain": [
       "<Figure size 1200x200 with 1 Axes>"
      ]
     },
     "metadata": {},
     "output_type": "display_data"
    }
   ],
   "source": [
    "from statsmodels.tsa.api import SimpleExpSmoothing\n",
    "\n",
    "es = SimpleExpSmoothing(train_df_1.Close.values)\n",
    "es.fit(smoothing_level=0.1)\n",
    "\n",
    "plt.plot(train_df_1.Close.values, label='Close')\n",
    "plt.plot(es.predict(es.params, start=0, end=None), label='Predicted')\n",
    "plt.legend();"
   ]
  },
  {
   "attachments": {},
   "cell_type": "markdown",
   "metadata": {},
   "source": [
    "### <b>5. Train a model</b>\n",
    "\n",
    "* for nan values, you could consider discarding them if you have enough data.\n",
    "Or you could plot the data to see how the nan values can be filled (e.g. average, ffill, bfill, etc.). It could be hard to figure this out, so it such cases, could just drop the nan values becausing imputing can bring bias that might not be helpful to the model/predictions."
   ]
  },
  {
   "cell_type": "code",
   "execution_count": 66,
   "metadata": {},
   "outputs": [
    {
     "data": {
      "text/html": [
       "<div>\n",
       "<style scoped>\n",
       "    .dataframe tbody tr th:only-of-type {\n",
       "        vertical-align: middle;\n",
       "    }\n",
       "\n",
       "    .dataframe tbody tr th {\n",
       "        vertical-align: top;\n",
       "    }\n",
       "\n",
       "    .dataframe thead th {\n",
       "        text-align: right;\n",
       "    }\n",
       "</style>\n",
       "<table border=\"1\" class=\"dataframe\">\n",
       "  <thead>\n",
       "    <tr style=\"text-align: right;\">\n",
       "      <th></th>\n",
       "      <th>Close</th>\n",
       "      <th>Open</th>\n",
       "      <th>High</th>\n",
       "      <th>Low</th>\n",
       "      <th>Vol.</th>\n",
       "      <th>Change %</th>\n",
       "      <th>Weekly SMA</th>\n",
       "      <th>Monthly SMA</th>\n",
       "      <th>Quarterly SMA</th>\n",
       "      <th>Weekly EMA</th>\n",
       "      <th>Monthly EMA</th>\n",
       "      <th>Quarterly EMA</th>\n",
       "      <th>Trend</th>\n",
       "      <th>Seasonal</th>\n",
       "      <th>Residual</th>\n",
       "    </tr>\n",
       "  </thead>\n",
       "  <tbody>\n",
       "    <tr>\n",
       "      <th>count</th>\n",
       "      <td>250.000000</td>\n",
       "      <td>2.500000e+02</td>\n",
       "      <td>2.500000e+02</td>\n",
       "      <td>2.500000e+02</td>\n",
       "      <td>250.000000</td>\n",
       "      <td>2.500000e+02</td>\n",
       "      <td>2.440000e+02</td>\n",
       "      <td>2.210000e+02</td>\n",
       "      <td>1.600000e+02</td>\n",
       "      <td>2.500000e+02</td>\n",
       "      <td>2.500000e+02</td>\n",
       "      <td>2.500000e+02</td>\n",
       "      <td>2.460000e+02</td>\n",
       "      <td>2.500000e+02</td>\n",
       "      <td>2.460000e+02</td>\n",
       "    </tr>\n",
       "    <tr>\n",
       "      <th>mean</th>\n",
       "      <td>224.216280</td>\n",
       "      <td>-2.842171e-17</td>\n",
       "      <td>1.122658e-15</td>\n",
       "      <td>1.705303e-16</td>\n",
       "      <td>0.000000</td>\n",
       "      <td>-2.131628e-17</td>\n",
       "      <td>1.747236e-16</td>\n",
       "      <td>1.253899e-15</td>\n",
       "      <td>-1.554312e-16</td>\n",
       "      <td>4.973799e-16</td>\n",
       "      <td>-5.115908e-16</td>\n",
       "      <td>2.273737e-15</td>\n",
       "      <td>-5.487932e-16</td>\n",
       "      <td>-2.664535e-18</td>\n",
       "      <td>7.220963e-18</td>\n",
       "    </tr>\n",
       "    <tr>\n",
       "      <th>std</th>\n",
       "      <td>26.778554</td>\n",
       "      <td>1.002006e+00</td>\n",
       "      <td>1.002006e+00</td>\n",
       "      <td>1.002006e+00</td>\n",
       "      <td>1.002006</td>\n",
       "      <td>1.002006e+00</td>\n",
       "      <td>1.002056e+00</td>\n",
       "      <td>1.002270e+00</td>\n",
       "      <td>1.003140e+00</td>\n",
       "      <td>1.002006e+00</td>\n",
       "      <td>1.002006e+00</td>\n",
       "      <td>1.002006e+00</td>\n",
       "      <td>1.002039e+00</td>\n",
       "      <td>1.002006e+00</td>\n",
       "      <td>1.002039e+00</td>\n",
       "    </tr>\n",
       "    <tr>\n",
       "      <th>min</th>\n",
       "      <td>174.270000</td>\n",
       "      <td>-1.842935e+00</td>\n",
       "      <td>-1.686389e+00</td>\n",
       "      <td>-1.822672e+00</td>\n",
       "      <td>-1.522260</td>\n",
       "      <td>-4.147471e+00</td>\n",
       "      <td>-1.481173e+00</td>\n",
       "      <td>-1.466743e+00</td>\n",
       "      <td>-1.646413e+00</td>\n",
       "      <td>-1.484374e+00</td>\n",
       "      <td>-1.442682e+00</td>\n",
       "      <td>-1.158744e+00</td>\n",
       "      <td>-1.551809e+00</td>\n",
       "      <td>-1.036980e+00</td>\n",
       "      <td>-6.814241e+00</td>\n",
       "    </tr>\n",
       "    <tr>\n",
       "      <th>25%</th>\n",
       "      <td>203.790000</td>\n",
       "      <td>-7.644503e-01</td>\n",
       "      <td>-7.795605e-01</td>\n",
       "      <td>-7.446363e-01</td>\n",
       "      <td>-0.687759</td>\n",
       "      <td>-4.580563e-01</td>\n",
       "      <td>-6.786079e-01</td>\n",
       "      <td>-7.548754e-01</td>\n",
       "      <td>-8.062869e-01</td>\n",
       "      <td>-6.950752e-01</td>\n",
       "      <td>-8.445118e-01</td>\n",
       "      <td>-8.044405e-01</td>\n",
       "      <td>-7.319138e-01</td>\n",
       "      <td>-8.834194e-01</td>\n",
       "      <td>-4.569990e-01</td>\n",
       "    </tr>\n",
       "    <tr>\n",
       "      <th>50%</th>\n",
       "      <td>220.145000</td>\n",
       "      <td>-1.568639e-01</td>\n",
       "      <td>-1.728705e-01</td>\n",
       "      <td>-1.642128e-01</td>\n",
       "      <td>-0.208069</td>\n",
       "      <td>-5.499641e-03</td>\n",
       "      <td>-1.445320e-01</td>\n",
       "      <td>-6.522494e-02</td>\n",
       "      <td>8.375928e-02</td>\n",
       "      <td>-1.299714e-01</td>\n",
       "      <td>-1.258661e-01</td>\n",
       "      <td>-3.393298e-01</td>\n",
       "      <td>-1.561760e-01</td>\n",
       "      <td>-2.016100e-01</td>\n",
       "      <td>8.697638e-02</td>\n",
       "    </tr>\n",
       "    <tr>\n",
       "      <th>75%</th>\n",
       "      <td>247.825000</td>\n",
       "      <td>8.930813e-01</td>\n",
       "      <td>8.577104e-01</td>\n",
       "      <td>8.459921e-01</td>\n",
       "      <td>0.388021</td>\n",
       "      <td>5.418784e-01</td>\n",
       "      <td>7.749575e-01</td>\n",
       "      <td>4.754287e-01</td>\n",
       "      <td>5.325338e-01</td>\n",
       "      <td>8.357387e-01</td>\n",
       "      <td>8.336402e-01</td>\n",
       "      <td>6.211810e-01</td>\n",
       "      <td>7.779803e-01</td>\n",
       "      <td>3.921471e-01</td>\n",
       "      <td>5.177492e-01</td>\n",
       "    </tr>\n",
       "    <tr>\n",
       "      <th>max</th>\n",
       "      <td>283.730000</td>\n",
       "      <td>2.288127e+00</td>\n",
       "      <td>2.295581e+00</td>\n",
       "      <td>2.183162e+00</td>\n",
       "      <td>4.603962</td>\n",
       "      <td>5.537242e+00</td>\n",
       "      <td>2.198452e+00</td>\n",
       "      <td>2.341664e+00</td>\n",
       "      <td>2.141993e+00</td>\n",
       "      <td>2.093425e+00</td>\n",
       "      <td>1.824321e+00</td>\n",
       "      <td>2.056014e+00</td>\n",
       "      <td>2.225260e+00</td>\n",
       "      <td>1.740114e+00</td>\n",
       "      <td>2.432579e+00</td>\n",
       "    </tr>\n",
       "  </tbody>\n",
       "</table>\n",
       "</div>"
      ],
      "text/plain": [
       "            Close          Open          High           Low        Vol.  \\\n",
       "count  250.000000  2.500000e+02  2.500000e+02  2.500000e+02  250.000000   \n",
       "mean   224.216280 -2.842171e-17  1.122658e-15  1.705303e-16    0.000000   \n",
       "std     26.778554  1.002006e+00  1.002006e+00  1.002006e+00    1.002006   \n",
       "min    174.270000 -1.842935e+00 -1.686389e+00 -1.822672e+00   -1.522260   \n",
       "25%    203.790000 -7.644503e-01 -7.795605e-01 -7.446363e-01   -0.687759   \n",
       "50%    220.145000 -1.568639e-01 -1.728705e-01 -1.642128e-01   -0.208069   \n",
       "75%    247.825000  8.930813e-01  8.577104e-01  8.459921e-01    0.388021   \n",
       "max    283.730000  2.288127e+00  2.295581e+00  2.183162e+00    4.603962   \n",
       "\n",
       "           Change %    Weekly SMA   Monthly SMA  Quarterly SMA    Weekly EMA  \\\n",
       "count  2.500000e+02  2.440000e+02  2.210000e+02   1.600000e+02  2.500000e+02   \n",
       "mean  -2.131628e-17  1.747236e-16  1.253899e-15  -1.554312e-16  4.973799e-16   \n",
       "std    1.002006e+00  1.002056e+00  1.002270e+00   1.003140e+00  1.002006e+00   \n",
       "min   -4.147471e+00 -1.481173e+00 -1.466743e+00  -1.646413e+00 -1.484374e+00   \n",
       "25%   -4.580563e-01 -6.786079e-01 -7.548754e-01  -8.062869e-01 -6.950752e-01   \n",
       "50%   -5.499641e-03 -1.445320e-01 -6.522494e-02   8.375928e-02 -1.299714e-01   \n",
       "75%    5.418784e-01  7.749575e-01  4.754287e-01   5.325338e-01  8.357387e-01   \n",
       "max    5.537242e+00  2.198452e+00  2.341664e+00   2.141993e+00  2.093425e+00   \n",
       "\n",
       "        Monthly EMA  Quarterly EMA         Trend      Seasonal      Residual  \n",
       "count  2.500000e+02   2.500000e+02  2.460000e+02  2.500000e+02  2.460000e+02  \n",
       "mean  -5.115908e-16   2.273737e-15 -5.487932e-16 -2.664535e-18  7.220963e-18  \n",
       "std    1.002006e+00   1.002006e+00  1.002039e+00  1.002006e+00  1.002039e+00  \n",
       "min   -1.442682e+00  -1.158744e+00 -1.551809e+00 -1.036980e+00 -6.814241e+00  \n",
       "25%   -8.445118e-01  -8.044405e-01 -7.319138e-01 -8.834194e-01 -4.569990e-01  \n",
       "50%   -1.258661e-01  -3.393298e-01 -1.561760e-01 -2.016100e-01  8.697638e-02  \n",
       "75%    8.336402e-01   6.211810e-01  7.779803e-01  3.921471e-01  5.177492e-01  \n",
       "max    1.824321e+00   2.056014e+00  2.225260e+00  1.740114e+00  2.432579e+00  "
      ]
     },
     "execution_count": 66,
     "metadata": {},
     "output_type": "execute_result"
    }
   ],
   "source": [
    "normalized_train_df_1.describe()"
   ]
  },
  {
   "cell_type": "code",
   "execution_count": 67,
   "metadata": {},
   "outputs": [],
   "source": [
    "temp_train_df = normalized_train_df_1.asfreq('D').ffill().dropna(axis=1)\n",
    "y_train_1 = temp_train_df.Close\n",
    "X_train_1 = temp_train_df.drop('Close', axis=1)\n",
    "\n",
    "temp_test_df = normalized_test_df_1.asfreq('D').ffill().dropna(axis=1)\n",
    "y_test_1 = temp_test_df.Close\n",
    "X_test_1 = temp_test_df.drop('Close', axis=1)"
   ]
  },
  {
   "cell_type": "code",
   "execution_count": 68,
   "metadata": {},
   "outputs": [
    {
     "name": "stdout",
     "output_type": "stream",
     "text": [
      "Performing stepwise search to minimize aic\n",
      " ARIMA(1,1,1)(0,0,0)[0] intercept   : AIC=2046.248, Time=0.18 sec\n",
      " ARIMA(0,1,0)(0,0,0)[0] intercept   : AIC=2042.945, Time=0.02 sec\n",
      " ARIMA(1,1,0)(0,0,0)[0] intercept   : AIC=2044.889, Time=0.07 sec\n",
      " ARIMA(0,1,1)(0,0,0)[0] intercept   : AIC=2044.889, Time=0.08 sec\n",
      " ARIMA(0,1,0)(0,0,0)[0]             : AIC=2040.992, Time=0.02 sec\n",
      "\n",
      "Best model:  ARIMA(0,1,0)(0,0,0)[0]          \n",
      "Total fit time: 0.378 seconds\n"
     ]
    },
    {
     "data": {
      "text/html": [
       "<table class=\"simpletable\">\n",
       "<caption>SARIMAX Results</caption>\n",
       "<tr>\n",
       "  <th>Dep. Variable:</th>           <td>y</td>        <th>  No. Observations:  </th>    <td>363</td>   \n",
       "</tr>\n",
       "<tr>\n",
       "  <th>Model:</th>           <td>SARIMAX(0, 1, 0)</td> <th>  Log Likelihood     </th> <td>-1019.496</td>\n",
       "</tr>\n",
       "<tr>\n",
       "  <th>Date:</th>            <td>Thu, 08 Jun 2023</td> <th>  AIC                </th> <td>2040.992</td> \n",
       "</tr>\n",
       "<tr>\n",
       "  <th>Time:</th>                <td>21:08:07</td>     <th>  BIC                </th> <td>2044.884</td> \n",
       "</tr>\n",
       "<tr>\n",
       "  <th>Sample:</th>             <td>01-03-2020</td>    <th>  HQIC               </th> <td>2042.539</td> \n",
       "</tr>\n",
       "<tr>\n",
       "  <th></th>                   <td>- 12-30-2020</td>   <th>                     </th>     <td> </td>    \n",
       "</tr>\n",
       "<tr>\n",
       "  <th>Covariance Type:</th>        <td>opg</td>       <th>                     </th>     <td> </td>    \n",
       "</tr>\n",
       "</table>\n",
       "<table class=\"simpletable\">\n",
       "<tr>\n",
       "     <td></td>       <th>coef</th>     <th>std err</th>      <th>z</th>      <th>P>|z|</th>  <th>[0.025</th>    <th>0.975]</th>  \n",
       "</tr>\n",
       "<tr>\n",
       "  <th>sigma2</th> <td>   16.3577</td> <td>    0.584</td> <td>   28.034</td> <td> 0.000</td> <td>   15.214</td> <td>   17.501</td>\n",
       "</tr>\n",
       "</table>\n",
       "<table class=\"simpletable\">\n",
       "<tr>\n",
       "  <th>Ljung-Box (L1) (Q):</th>     <td>0.06</td> <th>  Jarque-Bera (JB):  </th> <td>680.80</td>\n",
       "</tr>\n",
       "<tr>\n",
       "  <th>Prob(Q):</th>                <td>0.81</td> <th>  Prob(JB):          </th>  <td>0.00</td> \n",
       "</tr>\n",
       "<tr>\n",
       "  <th>Heteroskedasticity (H):</th> <td>0.52</td> <th>  Skew:              </th>  <td>-0.26</td>\n",
       "</tr>\n",
       "<tr>\n",
       "  <th>Prob(H) (two-sided):</th>    <td>0.00</td> <th>  Kurtosis:          </th>  <td>9.70</td> \n",
       "</tr>\n",
       "</table><br/><br/>Warnings:<br/>[1] Covariance matrix calculated using the outer product of gradients (complex-step)."
      ],
      "text/plain": [
       "<class 'statsmodels.iolib.summary.Summary'>\n",
       "\"\"\"\n",
       "                               SARIMAX Results                                \n",
       "==============================================================================\n",
       "Dep. Variable:                      y   No. Observations:                  363\n",
       "Model:               SARIMAX(0, 1, 0)   Log Likelihood               -1019.496\n",
       "Date:                Thu, 08 Jun 2023   AIC                           2040.992\n",
       "Time:                        21:08:07   BIC                           2044.884\n",
       "Sample:                    01-03-2020   HQIC                          2042.539\n",
       "                         - 12-30-2020                                         \n",
       "Covariance Type:                  opg                                         \n",
       "==============================================================================\n",
       "                 coef    std err          z      P>|z|      [0.025      0.975]\n",
       "------------------------------------------------------------------------------\n",
       "sigma2        16.3577      0.584     28.034      0.000      15.214      17.501\n",
       "===================================================================================\n",
       "Ljung-Box (L1) (Q):                   0.06   Jarque-Bera (JB):               680.80\n",
       "Prob(Q):                              0.81   Prob(JB):                         0.00\n",
       "Heteroskedasticity (H):               0.52   Skew:                            -0.26\n",
       "Prob(H) (two-sided):                  0.00   Kurtosis:                         9.70\n",
       "===================================================================================\n",
       "\n",
       "Warnings:\n",
       "[1] Covariance matrix calculated using the outer product of gradients (complex-step).\n",
       "\"\"\""
      ]
     },
     "execution_count": 68,
     "metadata": {},
     "output_type": "execute_result"
    }
   ],
   "source": [
    "# https://medium.datadriveninvestor.com/time-series-prediction-using-sarimax-a6604f258c56\n",
    "from pmdarima.arima import auto_arima\n",
    "step_wise=auto_arima(y_train_1, \n",
    "                    exogenous= X_train_1,\n",
    "                    start_p=1, max_p=7, \n",
    "                    start_q=1, max_q=7, \n",
    "                    d=1, max_d=7,\n",
    "                    trace=True, \n",
    "                    error_action='ignore', \n",
    "                    suppress_warnings=True, \n",
    "                    stepwise=True)\n",
    "step_wise.summary()\n",
    "\n",
    "# https://analyticsindiamag.com/complete-guide-to-sarimax-in-python-for-time-series-modeling/"
   ]
  },
  {
   "cell_type": "code",
   "execution_count": 69,
   "metadata": {},
   "outputs": [
    {
     "name": "stderr",
     "output_type": "stream",
     "text": [
      "c:\\Users\\Admin\\AppData\\Local\\Programs\\Python\\Python38\\lib\\site-packages\\statsmodels\\base\\model.py:604: ConvergenceWarning: Maximum Likelihood optimization failed to converge. Check mle_retvals\n",
      "  warnings.warn(\"Maximum Likelihood optimization failed to \"\n"
     ]
    },
    {
     "name": "stdout",
     "output_type": "stream",
     "text": [
      "                                     SARIMAX Results                                     \n",
      "=========================================================================================\n",
      "Dep. Variable:                             Close   No. Observations:                  363\n",
      "Model:             SARIMAX(1, 0, 1)x(1, 0, 1, 7)   Log Likelihood                -692.722\n",
      "Date:                           Thu, 08 Jun 2023   AIC                           1413.445\n",
      "Time:                                   21:08:10   BIC                           1467.966\n",
      "Sample:                               01-03-2020   HQIC                          1435.117\n",
      "                                    - 12-30-2020                                         \n",
      "Covariance Type:                             opg                                         \n",
      "=================================================================================\n",
      "                    coef    std err          z      P>|z|      [0.025      0.975]\n",
      "---------------------------------------------------------------------------------\n",
      "Open             -2.1722      0.497     -4.372      0.000      -3.146      -1.198\n",
      "High              3.9293      0.488      8.051      0.000       2.973       4.886\n",
      "Low               4.1577      0.385     10.802      0.000       3.403       4.912\n",
      "Vol.              0.0227      0.065      0.349      0.727      -0.105       0.150\n",
      "Change %          1.1504      0.044     26.201      0.000       1.064       1.236\n",
      "Weekly EMA       61.1446      2.022     30.242      0.000      57.182      65.107\n",
      "Monthly EMA     -88.7177      8.859    -10.014      0.000    -106.081     -71.354\n",
      "Quarterly EMA    33.3652      9.910      3.367      0.001      13.943      52.788\n",
      "Seasonal         -0.0092      0.061     -0.150      0.881      -0.129       0.111\n",
      "ar.L1             0.9999      0.005    207.748      0.000       0.991       1.009\n",
      "ma.L1             0.5012      0.025     19.989      0.000       0.452       0.550\n",
      "ar.S.L7           0.9998      0.052     19.380      0.000       0.899       1.101\n",
      "ma.S.L7          -0.9995      0.048    -20.750      0.000      -1.094      -0.905\n",
      "sigma2            1.5216      0.069     21.974      0.000       1.386       1.657\n",
      "===================================================================================\n",
      "Ljung-Box (L1) (Q):                   8.07   Jarque-Bera (JB):               450.67\n",
      "Prob(Q):                              0.00   Prob(JB):                         0.00\n",
      "Heteroskedasticity (H):               0.56   Skew:                            -0.46\n",
      "Prob(H) (two-sided):                  0.00   Kurtosis:                         8.38\n",
      "===================================================================================\n",
      "\n",
      "Warnings:\n",
      "[1] Covariance matrix calculated using the outer product of gradients (complex-step).\n"
     ]
    },
    {
     "data": {
      "image/png": "[encoded data removed]",
      "text/plain": [
       "<Figure size 1200x800 with 4 Axes>"
      ]
     },
     "metadata": {},
     "output_type": "display_data"
    }
   ],
   "source": [
    "from statsmodels.tsa.statespace.sarimax import SARIMAX\n",
    "# https://www.statsmodels.org/dev/generated/statsmodels.tsa.statespace.sarimax.SARIMAX.html\n",
    "\n",
    "sarimax_model = SARIMAX(\n",
    "    endog = y_train_1,\n",
    "    exog = X_train_1,\n",
    "    order=(1,0,1),\n",
    "    seasonal_order=(1,0,1,7)\n",
    "    )\n",
    "results = sarimax_model.fit(disp=False)\n",
    "print(results.summary())\n",
    "\n",
    "results.plot_diagnostics(figsize=(12, 8))\n",
    "plt.tight_layout()\n",
    "plt.show()"
   ]
  },
  {
   "attachments": {},
   "cell_type": "markdown",
   "metadata": {},
   "source": [
    "The plot_diagnostics method above produces a 2x2 plot grid with the following plots (ordered clockwise from top left):\n",
    "1. Standardized residuals over time\n",
    "2. Histogram plus estimated density of standardized residuals, along with a Normal(0,1) density plotted for reference.\n",
    "3. Normal Q-Q plot, with Normal reference line.\n",
    "4. Correlogram"
   ]
  },
  {
   "cell_type": "code",
   "execution_count": 85,
   "metadata": {},
   "outputs": [
    {
     "data": {
      "image/png": "[encoded data removed]",
      "text/plain": [
       "<Figure size 1200x400 with 1 Axes>"
      ]
     },
     "metadata": {},
     "output_type": "display_data"
    }
   ],
   "source": [
    "from datetime import timedelta\n",
    "\n",
    "pred = results.get_prediction(start=X_train_1.shape[0],\n",
    "                              end=X_train_1.shape[0] + X_test_1.shape[0] - 1,\n",
    "                              exog=X_test_1)\n",
    "pred_ci = pred.conf_int()\n",
    "pred_mean = pred.predicted_mean\n",
    "\n",
    "# Push the dates to 4 days later in the predictions since there's no trading data between Dec 31th and Jan 3nd.\n",
    "pred_mean.index += timedelta(days=4)\n",
    "pred_ci.index += timedelta(days=4)\n",
    "\n",
    "ax = y_test_1.plot(label='Observed', figsize=(12, 4))\n",
    "pred_mean.plot(ax=ax, label='Predicted', alpha=.7)\n",
    "\n",
    "ax.fill_between(pred_ci.index,\n",
    "                pred_ci.iloc[:, 0], # lower band/confidence interval\n",
    "                pred_ci.iloc[:, 1], # upper band/confidence interval\n",
    "                color='r', alpha=.2)\n",
    "\n",
    "\n",
    "time_period = 7\n",
    "rolling_mean = y_test_1.rolling(window=time_period).mean()\n",
    "rolling_std = y_test_1.rolling(window=time_period).std()\n",
    "\n",
    "upper_band = rolling_mean + (rolling_std * 2.5)\n",
    "lower_band = rolling_mean - (rolling_std * 2.5)\n",
    "\n",
    "ax.fill_between(y_test_1.index,\n",
    "                lower_band,\n",
    "                upper_band,\n",
    "                color='b', alpha=.2)\n",
    "\n",
    "\n",
    "ax.set_xlabel('Date')\n",
    "ax.set_ylabel('Close')\n",
    "plt.legend()\n",
    "plt.tight_layout()\n",
    "plt.show()"
   ]
  },
  {
   "attachments": {},
   "cell_type": "markdown",
   "metadata": {},
   "source": [
    "if the predicted price is lower than the lowerbound—> buy?\n",
    "\n",
    "if the predicted price is higher than the upperbound—> sell?"
   ]
  },
  {
   "cell_type": "code",
   "execution_count": 71,
   "metadata": {},
   "outputs": [
    {
     "ename": "SyntaxError",
     "evalue": "invalid syntax (899459388.py, line 1)",
     "output_type": "error",
     "traceback": [
      "\u001b[1;36m  Cell \u001b[1;32mIn[71], line 1\u001b[1;36m\u001b[0m\n\u001b[1;33m    1 predict\u001b[0m\n\u001b[1;37m      ^\u001b[0m\n\u001b[1;31mSyntaxError\u001b[0m\u001b[1;31m:\u001b[0m invalid syntax\n"
     ]
    }
   ],
   "source": [
    "1 predict\n",
    "2 calculate threshold/uncertainty (of the prediction) (+ bollinger band of the observed data?)\n",
    "3 decide to buy/hold/sell based on the threshold\n",
    "4 store the value/profit if I had traded based on the decision. (also need to define how many money/stock I already have.)"
   ]
  },
  {
   "attachments": {},
   "cell_type": "markdown",
   "metadata": {},
   "source": [
    "SARIMAX is a powerful tool for modeling and forecasting time series data, especially when there are known seasonal patterns and the influence of exogenous variables needs to be considered.\n",
    "\n",
    "In a SARIMAX model, the time series is assumed to have both non-seasonal and seasonal components. The non-seasonal component is captured by the ARIMA model, while the seasonal component is captured by the seasonal ARIMA (SARIMA) model. The inclusion of exogenous variables allows for the incorporation of additional factors that may influence the time series.\n",
    "\n",
    "The SARIMAX model is typically denoted as SARIMAX(p, d, q)(P, D, Q, s), where:\n",
    "\n",
    "p, d, and q are the orders of the non-seasonal AR, differencing, and MA components, respectively.\n",
    "P, D, Q, and s are the orders of the seasonal AR, differencing, MA components, and the seasonal period, respectively.\n",
    "Exogenous variables can be included in the model by specifying them separately.\n",
    "\n",
    "The SARIMAX model assumes that the time series is stationary after differencing. It models the relationship between the observations and the lags of the observations (autoregressive terms), the differences between observations (differencing terms), and the errors (moving average terms), both in the non-seasonal and seasonal components.\n",
    "\n",
    "p is the number of autoregressive terms\n",
    "d is the number of non-seasonal differences needed for stationarity\n",
    "q is the number of lagged forecast errors in the prediction equation"
   ]
  },
  {
   "attachments": {},
   "cell_type": "markdown",
   "metadata": {},
   "source": [
    "ARIMA. it just takes the past values of the stock market.\n",
    "\n",
    "=> move on to SARIMA. S stands for seasonality.\n",
    "\n",
    "=> SARIMAX - also takes into account external features (i.e, other features)\n",
    "SARIMAX stands for ‘Seasonal Auto Regressive Integrated Moving Average with eXogenus factors’\n",
    "\n",
    "=> primarily they are used for understanding the patterns or features of the time series data but we can use them for predictions.\n",
    "\n",
    "facebook's PROPHET. easy to understand. conceptually similar to SARIMAX.\n",
    "\n",
    "Uber's timeseries prediction model.\n",
    "\n",
    "\n",
    "https://towardsdatascience.com/time-series-forecast-in-python-using-sarimax-and-prophet-c970e6056b5b"
   ]
  },
  {
   "cell_type": "code",
   "execution_count": 90,
   "metadata": {},
   "outputs": [
    {
     "name": "stderr",
     "output_type": "stream",
     "text": [
      "21:21:25 - cmdstanpy - INFO - Chain [1] start processing\n",
      "21:21:25 - cmdstanpy - INFO - Chain [1] done processing\n",
      "No artists with labels found to put in legend.  Note that artists whose label start with an underscore are ignored when legend() is called with no argument.\n"
     ]
    },
    {
     "data": {
      "image/png": "[encoded data removed]",
      "text/plain": [
       "<Figure size 1200x400 with 1 Axes>"
      ]
     },
     "metadata": {},
     "output_type": "display_data"
    },
    {
     "data": {
      "image/png": "[encoded data removed]",
      "text/plain": [
       "<Figure size 1200x400 with 2 Axes>"
      ]
     },
     "metadata": {},
     "output_type": "display_data"
    }
   ],
   "source": [
    "from prophet import Prophet\n",
    "m = Prophet()\n",
    "m.fit(normalized_train_df_1.reset_index().rename(columns={'Date': 'ds', 'Close': 'y'}))\n",
    "\n",
    "# Forecast for the next 3 months\n",
    "future = m.make_future_dataframe(periods=90)\n",
    "forecast = m.predict(future)\n",
    "# print(forecast.tail())\n",
    "\n",
    "m.plot(forecast, figsize=(12, 4))\n",
    "y_test_1.plot(label='Close', color='red')\n",
    "m.plot_components(forecast, figsize=(12, 4))\n",
    "plt.legend();"
   ]
  },
  {
   "attachments": {},
   "cell_type": "markdown",
   "metadata": {},
   "source": [
    "3. set evaluation metrics\n",
    "(e.g., Since stock prices prediction is essentially a regression problem,\n",
    " the RMSE (Root Mean Squared Error) and MAPE (Mean Absolute Percentage Error %)\n",
    " will be our current model evaluation metrics. Both are useful measures of forecast accuracy. )\n",
    "\n",
    "\n",
    "4. build a prediction model\n",
    "* When predicting short-term stock prices, it is generally better to focus on more recent data rather than using the data from the entire year. However, it's important to strike a balance between using recent data and having enough historical context. It's recommended to experiment with different time periods and evaluate the performance of your predictions to find the optimal balance.\n",
    "\n",
    "* LSTM, short for Long Short-term Memory, is an extremely powerful algorithm for time series.\n",
    "    It can capture historical trend patterns, and predict future values with high accuracy. \n",
    "https://towardsdatascience.com/predicting-stock-prices-using-a-keras-lstm-model-4225457f0233\n",
    "https://www.projectpro.io/article/stock-price-prediction-using-machine-learning-project/571\n",
    "=> can be difficult/time-consuming to understand. can be tried out after trying simpler models.\n",
    "\n",
    "* Seasonal autoregressive integrated moving-average with exogenous regressors (SARIMAX)\n",
    "The most complex variant is the SARIMAX model. It regroups AR, MA, differencing, and seasonal effects.\n",
    "On top of that, it adds the X: external variables. If you have any variables that could help your model to improve,\n",
    "you could add them with SARIMAX.\n",
    "\n",
    "* exponential smoothing\n",
    "from statsmodels.tsa.api import SimpleExpSmoothing\n",
    "es = SimpleExpSmoothing(co2_data.co2.values)\n",
    "es.fit(smoothing_level=0.01)\n",
    "plt.plot(co2_data.co2.values)\n",
    "plt.plot(es.predict(es.params, start=0, end=None))\n",
    "plt.show()\n",
    "=> takes in only 1 column\n",
    "\n",
    "* Reinforcement learning\n",
    "https://www.analyticsvidhya.com/blog/2020/10/reinforcement-learning-stock-price-prediction/\n",
    "\n",
    "\n",
    "5. evaluate model performance\n",
    "=> create bollinger bands using the prediced price and recommend buy, hold, or sell decisions?\n",
    "\n",
    "\n",
    "6. based on the final model prediction, recommend BUY, HOLD, SELL decisions for each stock.\n",
    "(Maximize capital returns, minimize losses. Ideally a loss should never happen. Minimize HOLD period.)\n",
    "\n",
    "\n",
    "7. evaluate on the basis of capital returns (based on the trading decisions).\n",
    "how to quantify or calculate the returns when we don't know how many stocks we had and when we bought them?\n",
    "\n",
    "\n",
    "8. use bollinger bands to measure the system/model's effectiveness??"
   ]
  },
  {
   "attachments": {},
   "cell_type": "markdown",
   "metadata": {},
   "source": [
    "Candlestick charts are used by traders to determine possible price movement based on past patterns. Candlesticks are useful when trading as they show four price points (open, close, high, and low) throughout the period of time the trader specifies."
   ]
  },
  {
   "cell_type": "code",
   "execution_count": null,
   "metadata": {},
   "outputs": [
    {
     "data": {
      "application/vnd.plotly.v1+json": {
       "config": {
        "plotlyServerURL": "https://plot.ly"
       },
       "data": [
        {
         "close": [
          255,
          253.9,
          259.15,
          257.99,
          258.19,
          262.4,
          259.05,
          256.31,
          257.51,
          262.5,
          266.28,
          268.06,
          266.54,
          263.73,
          265.49,
          255.32,
          257.7,
          259.94,
          257.31,
          252.2,
          253.99,
          255.4,
          255.2,
          252.11,
          254.3,
          252.26,
          254.5,
          254.5,
          253.89,
          251.75,
          251.36,
          249.2,
          249.7,
          250.15,
          250.8,
          245.19,
          250.8,
          242.88,
          233.36,
          228.17,
          236.63,
          235.27,
          232.33,
          219.99,
          201.2,
          194.53,
          175.91,
          198.6,
          195.85,
          184.01,
          174.27,
          189.51,
          195.69,
          183.37,
          192.64,
          188.08,
          188.07,
          180.38,
          183,
          187.21,
          184.78,
          186.95,
          185.64,
          190.7,
          197.63,
          200.29,
          203.61,
          201.99,
          198.26,
          197.37,
          186.07,
          188.5,
          191.8,
          189.32,
          186.05,
          190.2,
          190.94,
          188.91,
          188.9,
          192.8,
          195.8,
          197.25,
          193.69,
          194.75,
          195.7,
          195.51,
          196.02,
          191.4,
          187.31,
          183.81,
          183.85,
          188.93,
          189,
          193.98,
          192.4,
          188.9,
          191,
          194,
          198.51,
          205,
          200.5,
          203.66,
          212,
          221.5,
          213.1,
          219.1,
          220.3,
          217.23,
          212.53,
          208.35,
          207.32,
          207.76,
          208.14,
          203.77,
          207,
          206.4,
          207.3,
          206.92,
          203.15,
          205.8,
          203.22,
          209.6,
          210.95,
          214.61,
          210.53,
          210.97,
          209.11,
          212.28,
          208.39,
          209.5,
          211.09,
          211.35,
          210.81,
          213.89,
          215.73,
          216.71,
          215.41,
          215.97,
          216.9,
          215.53,
          219.18,
          218.15,
          221.57,
          226.72,
          227.16,
          226.4,
          226,
          227.28,
          225.99,
          232.65,
          242.4,
          241.39,
          239.99,
          237.8,
          236.3,
          239.4,
          232.48,
          231.22,
          231.81,
          228.08,
          227.8,
          226.23,
          226.3,
          226.1,
          227.64,
          222.57,
          218.32,
          222.21,
          221.32,
          217.68,
          218,
          220.6,
          221.07,
          227.37,
          231.5,
          231.06,
          231.46,
          230.3,
          226.25,
          229.88,
          228.5,
          228.17,
          228.24,
          228.63,
          225.48,
          229.14,
          227.23,
          208.8,
          208.89,
          211.18,
          210.6,
          207.97,
          205.38,
          206.18,
          205.03,
          207.83,
          203.85,
          201.17,
          202.78,
          209.54,
          210.33,
          210.21,
          214.5,
          211.1,
          207.64,
          204.73,
          205.58,
          200.99,
          204.5,
          209.2,
          216.7,
          217.5,
          228.05,
          236.1,
          244.2,
          242.08,
          242.99,
          247.99,
          245.7,
          242.71,
          240.27,
          239.42,
          239.7,
          247.33,
          251.91,
          250.1,
          251.59,
          249.63,
          260.81,
          264.06,
          263.14,
          270,
          274.36,
          275.49,
          276.89,
          282.2,
          283.73,
          279.95,
          278.7,
          278.35,
          278.5,
          270.16,
          261.79,
          262.04,
          270.1,
          269.32,
          270.64,
          274.7,
          272,
          271.65
         ],
         "high": [
          258.19,
          254.84,
          259.15,
          261.76,
          259.25,
          262.4,
          263.22,
          258.91,
          259.51,
          262.82,
          266.97,
          268.9,
          270.8,
          266.89,
          267.5,
          262.1,
          258.84,
          261.57,
          258.69,
          259.2,
          254.96,
          257.38,
          257.66,
          258,
          254.3,
          255.73,
          259.77,
          255.49,
          255.18,
          254.4,
          253.1,
          250.44,
          250.68,
          252.17,
          251.49,
          249,
          251.21,
          248.98,
          239,
          241,
          239,
          236.7,
          238.72,
          229.2,
          212.74,
          204.33,
          187.87,
          199.52,
          196.7,
          204.78,
          182.2,
          190.15,
          201.86,
          190.99,
          195,
          201,
          191.2,
          188.97,
          183.2,
          188.77,
          185.47,
          189.9,
          187.49,
          192.02,
          200.54,
          200.29,
          205.44,
          202.75,
          202.16,
          202.85,
          196.25,
          191.67,
          192.7,
          192.23,
          187.5,
          191.94,
          192.5,
          191.65,
          190.5,
          194.22,
          195.8,
          199.7,
          195.68,
          196.46,
          197.23,
          198.15,
          196.25,
          198,
          190.6,
          188.2,
          186.78,
          190,
          192.55,
          193.98,
          196.31,
          191.25,
          191.31,
          196.1,
          198.97,
          205,
          204.4,
          205.93,
          212,
          221.92,
          221,
          219.93,
          223.15,
          221.88,
          217.58,
          209.24,
          207.85,
          212.19,
          210.35,
          208.1,
          209.2,
          207.95,
          209.74,
          207,
          207.5,
          205.86,
          206,
          210.15,
          211.97,
          216.79,
          214.23,
          212.29,
          211.7,
          212.6,
          214.2,
          209.58,
          211.8,
          212.6,
          212.18,
          214.48,
          219.1,
          217.65,
          219.28,
          217.41,
          218.38,
          217.42,
          219.18,
          218.88,
          221.98,
          228.36,
          228.85,
          229.17,
          227.43,
          227.6,
          228.7,
          234.73,
          242.5,
          244.04,
          242.22,
          242.35,
          239.83,
          240.75,
          238.51,
          236.5,
          233.7,
          232.97,
          229.4,
          229.98,
          228.1,
          229.71,
          227.97,
          228.75,
          224.23,
          222.5,
          224.2,
          222.48,
          218.88,
          222.15,
          223.15,
          227.54,
          231.95,
          232.6,
          231.75,
          232.59,
          230.07,
          230.28,
          232.1,
          231.1,
          229.3,
          229.55,
          228.88,
          230.75,
          229.9,
          211.39,
          210.69,
          212.99,
          212.66,
          211.43,
          208.96,
          208.49,
          207.64,
          208,
          207.57,
          204.25,
          204,
          209.76,
          213.25,
          211.53,
          214.73,
          214.45,
          212.29,
          206.94,
          207.33,
          204.84,
          204.59,
          211.11,
          218.65,
          218.29,
          231.3,
          237.6,
          245.98,
          245.72,
          244.14,
          248.73,
          249.84,
          247.23,
          243.49,
          240.77,
          243.87,
          247.85,
          252.2,
          252.88,
          252.26,
          251,
          260.99,
          264.99,
          264.63,
          270.84,
          276.13,
          276.66,
          279.42,
          282.2,
          284.6,
          287.74,
          283.76,
          280.84,
          285.16,
          277.4,
          267.34,
          267.42,
          270.29,
          272.82,
          271,
          275.19,
          276.43,
          274.24
         ],
         "low": [
          253.7,
          251.4,
          253.03,
          257.01,
          256.88,
          257.15,
          258.62,
          254.21,
          256.1,
          257.75,
          261.8,
          263.02,
          265.5,
          262.24,
          264.21,
          255.32,
          254.1,
          257.61,
          255.27,
          252.17,
          251.1,
          252.9,
          253.14,
          251.86,
          248.73,
          252.07,
          253,
          252.31,
          252.5,
          251.4,
          250.13,
          247.57,
          247.95,
          249.13,
          247.24,
          245.17,
          243.22,
          242,
          231,
          218.86,
          232.28,
          232.62,
          230.64,
          216.67,
          184.86,
          192.05,
          173.14,
          174.3,
          186,
          183.8,
          172.15,
          173.06,
          192.05,
          182.1,
          189.1,
          182.32,
          182.8,
          180.17,
          174.9,
          184.25,
          182,
          182,
          184.28,
          186.42,
          193.02,
          195.12,
          199.3,
          200.7,
          197.32,
          196.1,
          186.06,
          183.53,
          188.28,
          187.31,
          183.65,
          184.5,
          188.68,
          187.7,
          188.43,
          188.17,
          192.86,
          195.46,
          193.26,
          194,
          194.3,
          195.06,
          194.6,
          191.2,
          186.66,
          183.5,
          183.33,
          185.4,
          186.8,
          186.6,
          191.5,
          188.6,
          188.8,
          192.11,
          193.32,
          198.4,
          199.17,
          201.81,
          204,
          213.51,
          212.55,
          213.6,
          217.45,
          215.44,
          211.82,
          206.01,
          202.3,
          207.52,
          206.94,
          202.72,
          204.55,
          204.28,
          206.43,
          200.75,
          201.76,
          200.97,
          202.36,
          204.28,
          209,
          212.94,
          210.51,
          209.3,
          208.1,
          206.57,
          208.11,
          205.7,
          207.65,
          208.63,
          209.86,
          209.08,
          214.38,
          213.56,
          215,
          197.73,
          215.15,
          215.25,
          215.63,
          215.34,
          217.43,
          221.3,
          225.63,
          224.31,
          224.35,
          224.46,
          224.51,
          226.21,
          233.03,
          238.57,
          238.47,
          234.5,
          235.69,
          235.19,
          230.33,
          227.35,
          230.2,
          226.9,
          224.7,
          225.6,
          225.19,
          225,
          226.01,
          220.85,
          218,
          216.75,
          220.5,
          216.29,
          216.8,
          215.79,
          219.75,
          222.13,
          227.39,
          230.15,
          228.57,
          229,
          223.49,
          225.46,
          227.61,
          225.75,
          226.25,
          227.35,
          223.1,
          223.25,
          226.86,
          206.5,
          207.72,
          208.35,
          209.03,
          207.26,
          204.4,
          204.57,
          204.77,
          204.78,
          201.95,
          200.5,
          201.55,
          202.5,
          208.9,
          207.84,
          209.15,
          210.5,
          206.66,
          202.3,
          203.64,
          200.61,
          196.15,
          203.8,
          211.43,
          213,
          218.7,
          226.27,
          236.89,
          240.22,
          238.62,
          244,
          243.41,
          242.59,
          237.34,
          236.57,
          238.52,
          239.57,
          246.55,
          247.44,
          248.03,
          245.98,
          249.8,
          258.8,
          260.85,
          264.5,
          268.1,
          271.52,
          275.87,
          275.2,
          279.78,
          277.1,
          276.07,
          276.14,
          276.54,
          268.52,
          259.7,
          257.05,
          260.22,
          267.13,
          268.28,
          269.73,
          271.26,
          270.12
         ],
         "open": [
          255.99,
          254.75,
          253.57,
          259.4,
          257.86,
          258.3,
          262.5,
          258.49,
          257.11,
          258.2,
          263.2,
          265.5,
          268.72,
          264.64,
          264.5,
          261,
          257,
          258.4,
          258,
          258.5,
          251.8,
          255.3,
          255.89,
          256.5,
          253.1,
          254.55,
          253.75,
          255.4,
          253.62,
          254.4,
          252.5,
          250.07,
          250.37,
          250.03,
          248.35,
          247.98,
          244.75,
          247.5,
          235,
          238.93,
          233,
          234.13,
          237,
          228,
          197.99,
          202,
          185.15,
          175,
          194,
          195,
          179,
          178.5,
          198.62,
          188,
          193.3,
          196.38,
          187.69,
          188.05,
          177,
          186,
          183.2,
          188.3,
          186.6,
          187.52,
          193.02,
          196.02,
          202.4,
          201.85,
          202,
          199.99,
          196,
          187.22,
          192.5,
          190.6,
          185.54,
          185.01,
          191.99,
          189.73,
          189.98,
          188.5,
          194.46,
          196.51,
          195.68,
          195.51,
          195,
          196,
          196,
          193.3,
          190.05,
          186.5,
          186.13,
          186.33,
          190.37,
          188.49,
          194,
          190.97,
          189.62,
          193,
          194,
          199.31,
          204.11,
          203.1,
          204.67,
          214,
          220.67,
          215.13,
          219.8,
          221.13,
          217,
          208.91,
          205.07,
          210.28,
          208.52,
          207.8,
          205.44,
          206.7,
          207.7,
          201,
          206.97,
          201,
          205.7,
          205,
          210,
          212.97,
          213,
          210.8,
          210.7,
          207.51,
          213.87,
          208.38,
          210.29,
          209.66,
          211.69,
          210.27,
          215,
          215.98,
          217.5,
          214.8,
          216.7,
          216.81,
          215.89,
          218.71,
          218.19,
          222.27,
          227.39,
          228.15,
          226.75,
          225,
          227.96,
          226.43,
          233.12,
          242.2,
          242,
          240.8,
          236.88,
          235.85,
          238.44,
          233.3,
          232.5,
          232.3,
          228.3,
          227.87,
          227,
          227,
          226.7,
          228.56,
          221.67,
          218,
          221.5,
          222,
          217.01,
          218.24,
          221.46,
          222.31,
          228.22,
          231.72,
          229.1,
          232,
          229.88,
          226,
          230.02,
          227.63,
          229,
          228.79,
          228.88,
          224.5,
          229.08,
          210.4,
          209.65,
          209,
          211.3,
          211.2,
          208.47,
          205.97,
          205.92,
          205.06,
          207.46,
          204.02,
          201.55,
          203,
          210.04,
          209.58,
          210,
          213.4,
          211.5,
          206.94,
          206.5,
          203.62,
          200.45,
          205.7,
          214.4,
          215.8,
          220,
          227,
          237,
          243.31,
          242.01,
          244.14,
          248,
          245.1,
          242.5,
          239.58,
          240.45,
          241.65,
          248,
          252.3,
          250.3,
          249.72,
          250.75,
          260.05,
          264.5,
          264.63,
          269,
          274.5,
          276.4,
          276.55,
          282.5,
          285.01,
          278.53,
          278,
          279.81,
          277.22,
          266.2,
          259.55,
          262.25,
          271.98,
          269.97,
          270.9,
          275.91,
          272.49
         ],
         "type": "candlestick",
         "x": [
          "2020-01-03T00:00:00",
          "2020-01-06T00:00:00",
          "2020-01-08T00:00:00",
          "2020-01-09T00:00:00",
          "2020-01-10T00:00:00",
          "2020-01-13T00:00:00",
          "2020-01-14T00:00:00",
          "2020-01-15T00:00:00",
          "2020-01-16T00:00:00",
          "2020-01-17T00:00:00",
          "2020-01-20T00:00:00",
          "2020-01-21T00:00:00",
          "2020-01-22T00:00:00",
          "2020-01-23T00:00:00",
          "2020-01-24T00:00:00",
          "2020-01-27T00:00:00",
          "2020-01-28T00:00:00",
          "2020-01-29T00:00:00",
          "2020-01-30T00:00:00",
          "2020-01-31T00:00:00",
          "2020-02-03T00:00:00",
          "2020-02-04T00:00:00",
          "2020-02-05T00:00:00",
          "2020-02-06T00:00:00",
          "2020-02-07T00:00:00",
          "2020-02-10T00:00:00",
          "2020-02-11T00:00:00",
          "2020-02-12T00:00:00",
          "2020-02-13T00:00:00",
          "2020-02-14T00:00:00",
          "2020-02-17T00:00:00",
          "2020-02-18T00:00:00",
          "2020-02-19T00:00:00",
          "2020-02-20T00:00:00",
          "2020-02-21T00:00:00",
          "2020-02-25T00:00:00",
          "2020-02-26T00:00:00",
          "2020-02-27T00:00:00",
          "2020-02-28T00:00:00",
          "2020-03-02T00:00:00",
          "2020-03-03T00:00:00",
          "2020-03-04T00:00:00",
          "2020-03-05T00:00:00",
          "2020-03-06T00:00:00",
          "2020-03-10T00:00:00",
          "2020-03-11T00:00:00",
          "2020-03-12T00:00:00",
          "2020-03-13T00:00:00",
          "2020-03-16T00:00:00",
          "2020-03-17T00:00:00",
          "2020-03-18T00:00:00",
          "2020-03-19T00:00:00",
          "2020-03-20T00:00:00",
          "2020-03-23T00:00:00",
          "2020-03-24T00:00:00",
          "2020-03-25T00:00:00",
          "2020-03-26T00:00:00",
          "2020-03-27T00:00:00",
          "2020-03-30T00:00:00",
          "2020-03-31T00:00:00",
          "2020-04-01T00:00:00",
          "2020-04-02T00:00:00",
          "2020-04-03T00:00:00",
          "2020-04-06T00:00:00",
          "2020-04-07T00:00:00",
          "2020-04-08T00:00:00",
          "2020-04-09T00:00:00",
          "2020-04-10T00:00:00",
          "2020-04-13T00:00:00",
          "2020-04-14T00:00:00",
          "2020-04-15T00:00:00",
          "2020-04-16T00:00:00",
          "2020-04-17T00:00:00",
          "2020-04-20T00:00:00",
          "2020-04-21T00:00:00",
          "2020-04-22T00:00:00",
          "2020-04-23T00:00:00",
          "2020-04-24T00:00:00",
          "2020-04-27T00:00:00",
          "2020-04-28T00:00:00",
          "2020-04-29T00:00:00",
          "2020-04-30T00:00:00",
          "2020-05-04T00:00:00",
          "2020-05-05T00:00:00",
          "2020-05-06T00:00:00",
          "2020-05-07T00:00:00",
          "2020-05-08T00:00:00",
          "2020-05-12T00:00:00",
          "2020-05-13T00:00:00",
          "2020-05-14T00:00:00",
          "2020-05-15T00:00:00",
          "2020-05-18T00:00:00",
          "2020-05-19T00:00:00",
          "2020-05-20T00:00:00",
          "2020-05-21T00:00:00",
          "2020-05-22T00:00:00",
          "2020-05-25T00:00:00",
          "2020-05-26T00:00:00",
          "2020-05-27T00:00:00",
          "2020-05-28T00:00:00",
          "2020-05-29T00:00:00",
          "2020-06-01T00:00:00",
          "2020-06-02T00:00:00",
          "2020-06-03T00:00:00",
          "2020-06-04T00:00:00",
          "2020-06-05T00:00:00",
          "2020-06-08T00:00:00",
          "2020-06-09T00:00:00",
          "2020-06-10T00:00:00",
          "2020-06-11T00:00:00",
          "2020-06-15T00:00:00",
          "2020-06-16T00:00:00",
          "2020-06-17T00:00:00",
          "2020-06-18T00:00:00",
          "2020-06-19T00:00:00",
          "2020-06-22T00:00:00",
          "2020-06-23T00:00:00",
          "2020-06-25T00:00:00",
          "2020-06-26T00:00:00",
          "2020-06-29T00:00:00",
          "2020-06-30T00:00:00",
          "2020-07-02T00:00:00",
          "2020-07-03T00:00:00",
          "2020-07-06T00:00:00",
          "2020-07-07T00:00:00",
          "2020-07-08T00:00:00",
          "2020-07-09T00:00:00",
          "2020-07-10T00:00:00",
          "2020-07-13T00:00:00",
          "2020-07-14T00:00:00",
          "2020-07-15T00:00:00",
          "2020-07-16T00:00:00",
          "2020-07-17T00:00:00",
          "2020-07-20T00:00:00",
          "2020-07-21T00:00:00",
          "2020-07-22T00:00:00",
          "2020-07-23T00:00:00",
          "2020-07-24T00:00:00",
          "2020-07-27T00:00:00",
          "2020-07-28T00:00:00",
          "2020-07-29T00:00:00",
          "2020-07-30T00:00:00",
          "2020-07-31T00:00:00",
          "2020-08-03T00:00:00",
          "2020-08-04T00:00:00",
          "2020-08-05T00:00:00",
          "2020-08-06T00:00:00",
          "2020-08-07T00:00:00",
          "2020-08-10T00:00:00",
          "2020-08-11T00:00:00",
          "2020-08-12T00:00:00",
          "2020-08-13T00:00:00",
          "2020-08-14T00:00:00",
          "2020-08-17T00:00:00",
          "2020-08-18T00:00:00",
          "2020-08-19T00:00:00",
          "2020-08-20T00:00:00",
          "2020-08-21T00:00:00",
          "2020-08-24T00:00:00",
          "2020-08-25T00:00:00",
          "2020-08-26T00:00:00",
          "2020-08-27T00:00:00",
          "2020-08-28T00:00:00",
          "2020-08-31T00:00:00",
          "2020-09-01T00:00:00",
          "2020-09-02T00:00:00",
          "2020-09-03T00:00:00",
          "2020-09-04T00:00:00",
          "2020-09-07T00:00:00",
          "2020-09-08T00:00:00",
          "2020-09-09T00:00:00",
          "2020-09-10T00:00:00",
          "2020-09-11T00:00:00",
          "2020-09-14T00:00:00",
          "2020-09-15T00:00:00",
          "2020-09-16T00:00:00",
          "2020-09-17T00:00:00",
          "2020-09-18T00:00:00",
          "2020-09-21T00:00:00",
          "2020-09-22T00:00:00",
          "2020-09-23T00:00:00",
          "2020-09-24T00:00:00",
          "2020-09-25T00:00:00",
          "2020-09-28T00:00:00",
          "2020-09-29T00:00:00",
          "2020-09-30T00:00:00",
          "2020-10-01T00:00:00",
          "2020-10-02T00:00:00",
          "2020-10-05T00:00:00",
          "2020-10-06T00:00:00",
          "2020-10-07T00:00:00",
          "2020-10-08T00:00:00",
          "2020-10-09T00:00:00",
          "2020-10-12T00:00:00",
          "2020-10-13T00:00:00",
          "2020-10-14T00:00:00",
          "2020-10-15T00:00:00",
          "2020-10-16T00:00:00",
          "2020-10-19T00:00:00",
          "2020-10-20T00:00:00",
          "2020-10-21T00:00:00",
          "2020-10-22T00:00:00",
          "2020-10-23T00:00:00",
          "2020-10-26T00:00:00",
          "2020-10-27T00:00:00",
          "2020-10-28T00:00:00",
          "2020-10-29T00:00:00",
          "2020-10-30T00:00:00",
          "2020-11-02T00:00:00",
          "2020-11-03T00:00:00",
          "2020-11-05T00:00:00",
          "2020-11-06T00:00:00",
          "2020-11-09T00:00:00",
          "2020-11-10T00:00:00",
          "2020-11-11T00:00:00",
          "2020-11-12T00:00:00",
          "2020-11-13T00:00:00",
          "2020-11-16T00:00:00",
          "2020-11-17T00:00:00",
          "2020-11-18T00:00:00",
          "2020-11-19T00:00:00",
          "2020-11-20T00:00:00",
          "2020-11-23T00:00:00",
          "2020-11-24T00:00:00",
          "2020-11-25T00:00:00",
          "2020-11-26T00:00:00",
          "2020-11-27T00:00:00",
          "2020-11-30T00:00:00",
          "2020-12-01T00:00:00",
          "2020-12-02T00:00:00",
          "2020-12-03T00:00:00",
          "2020-12-04T00:00:00",
          "2020-12-07T00:00:00",
          "2020-12-08T00:00:00",
          "2020-12-09T00:00:00",
          "2020-12-10T00:00:00",
          "2020-12-11T00:00:00",
          "2020-12-14T00:00:00",
          "2020-12-15T00:00:00",
          "2020-12-16T00:00:00",
          "2020-12-17T00:00:00",
          "2020-12-18T00:00:00",
          "2020-12-21T00:00:00",
          "2020-12-22T00:00:00",
          "2020-12-23T00:00:00",
          "2020-12-24T00:00:00",
          "2020-12-25T00:00:00",
          "2020-12-28T00:00:00",
          "2020-12-29T00:00:00",
          "2020-12-30T00:00:00"
         ]
        }
       ],
       "layout": {
        "height": 600,
        "template": {
         "data": {
          "bar": [
           {
            "error_x": {
             "color": "#2a3f5f"
            },
            "error_y": {
             "color": "#2a3f5f"
            },
            "marker": {
             "line": {
              "color": "#E5ECF6",
              "width": 0.5
             },
             "pattern": {
              "fillmode": "overlay",
              "size": 10,
              "solidity": 0.2
             }
            },
            "type": "bar"
           }
          ],
          "barpolar": [
           {
            "marker": {
             "line": {
              "color": "#E5ECF6",
              "width": 0.5
             },
             "pattern": {
              "fillmode": "overlay",
              "size": 10,
              "solidity": 0.2
             }
            },
            "type": "barpolar"
           }
          ],
          "carpet": [
           {
            "aaxis": {
             "endlinecolor": "#2a3f5f",
             "gridcolor": "white",
             "linecolor": "white",
             "minorgridcolor": "white",
             "startlinecolor": "#2a3f5f"
            },
            "baxis": {
             "endlinecolor": "#2a3f5f",
             "gridcolor": "white",
             "linecolor": "white",
             "minorgridcolor": "white",
             "startlinecolor": "#2a3f5f"
            },
            "type": "carpet"
           }
          ],
          "choropleth": [
           {
            "colorbar": {
             "outlinewidth": 0,
             "ticks": ""
            },
            "type": "choropleth"
           }
          ],
          "contour": [
           {
            "colorbar": {
             "outlinewidth": 0,
             "ticks": ""
            },
            "colorscale": [
             [
              0,
              "#0d0887"
             ],
             [
              0.1111111111111111,
              "#46039f"
             ],
             [
              0.2222222222222222,
              "#7201a8"
             ],
             [
              0.3333333333333333,
              "#9c179e"
             ],
             [
              0.4444444444444444,
              "#bd3786"
             ],
             [
              0.5555555555555556,
              "#d8576b"
             ],
             [
              0.6666666666666666,
              "#ed7953"
             ],
             [
              0.7777777777777778,
              "#fb9f3a"
             ],
             [
              0.8888888888888888,
              "#fdca26"
             ],
             [
              1,
              "#f0f921"
             ]
            ],
            "type": "contour"
           }
          ],
          "contourcarpet": [
           {
            "colorbar": {
             "outlinewidth": 0,
             "ticks": ""
            },
            "type": "contourcarpet"
           }
          ],
          "heatmap": [
           {
            "colorbar": {
             "outlinewidth": 0,
             "ticks": ""
            },
            "colorscale": [
             [
              0,
              "#0d0887"
             ],
             [
              0.1111111111111111,
              "#46039f"
             ],
             [
              0.2222222222222222,
              "#7201a8"
             ],
             [
              0.3333333333333333,
              "#9c179e"
             ],
             [
              0.4444444444444444,
              "#bd3786"
             ],
             [
              0.5555555555555556,
              "#d8576b"
             ],
             [
              0.6666666666666666,
              "#ed7953"
             ],
             [
              0.7777777777777778,
              "#fb9f3a"
             ],
             [
              0.8888888888888888,
              "#fdca26"
             ],
             [
              1,
              "#f0f921"
             ]
            ],
            "type": "heatmap"
           }
          ],
          "heatmapgl": [
           {
            "colorbar": {
             "outlinewidth": 0,
             "ticks": ""
            },
            "colorscale": [
             [
              0,
              "#0d0887"
             ],
             [
              0.1111111111111111,
              "#46039f"
             ],
             [
              0.2222222222222222,
              "#7201a8"
             ],
             [
              0.3333333333333333,
              "#9c179e"
             ],
             [
              0.4444444444444444,
              "#bd3786"
             ],
             [
              0.5555555555555556,
              "#d8576b"
             ],
             [
              0.6666666666666666,
              "#ed7953"
             ],
             [
              0.7777777777777778,
              "#fb9f3a"
             ],
             [
              0.8888888888888888,
              "#fdca26"
             ],
             [
              1,
              "#f0f921"
             ]
            ],
            "type": "heatmapgl"
           }
          ],
          "histogram": [
           {
            "marker": {
             "pattern": {
              "fillmode": "overlay",
              "size": 10,
              "solidity": 0.2
             }
            },
            "type": "histogram"
           }
          ],
          "histogram2d": [
           {
            "colorbar": {
             "outlinewidth": 0,
             "ticks": ""
            },
            "colorscale": [
             [
              0,
              "#0d0887"
             ],
             [
              0.1111111111111111,
              "#46039f"
             ],
             [
              0.2222222222222222,
              "#7201a8"
             ],
             [
              0.3333333333333333,
              "#9c179e"
             ],
             [
              0.4444444444444444,
              "#bd3786"
             ],
             [
              0.5555555555555556,
              "#d8576b"
             ],
             [
              0.6666666666666666,
              "#ed7953"
             ],
             [
              0.7777777777777778,
              "#fb9f3a"
             ],
             [
              0.8888888888888888,
              "#fdca26"
             ],
             [
              1,
              "#f0f921"
             ]
            ],
            "type": "histogram2d"
           }
          ],
          "histogram2dcontour": [
           {
            "colorbar": {
             "outlinewidth": 0,
             "ticks": ""
            },
            "colorscale": [
             [
              0,
              "#0d0887"
             ],
             [
              0.1111111111111111,
              "#46039f"
             ],
             [
              0.2222222222222222,
              "#7201a8"
             ],
             [
              0.3333333333333333,
              "#9c179e"
             ],
             [
              0.4444444444444444,
              "#bd3786"
             ],
             [
              0.5555555555555556,
              "#d8576b"
             ],
             [
              0.6666666666666666,
              "#ed7953"
             ],
             [
              0.7777777777777778,
              "#fb9f3a"
             ],
             [
              0.8888888888888888,
              "#fdca26"
             ],
             [
              1,
              "#f0f921"
             ]
            ],
            "type": "histogram2dcontour"
           }
          ],
          "mesh3d": [
           {
            "colorbar": {
             "outlinewidth": 0,
             "ticks": ""
            },
            "type": "mesh3d"
           }
          ],
          "parcoords": [
           {
            "line": {
             "colorbar": {
              "outlinewidth": 0,
              "ticks": ""
             }
            },
            "type": "parcoords"
           }
          ],
          "pie": [
           {
            "automargin": true,
            "type": "pie"
           }
          ],
          "scatter": [
           {
            "fillpattern": {
             "fillmode": "overlay",
             "size": 10,
             "solidity": 0.2
            },
            "type": "scatter"
           }
          ],
          "scatter3d": [
           {
            "line": {
             "colorbar": {
              "outlinewidth": 0,
              "ticks": ""
             }
            },
            "marker": {
             "colorbar": {
              "outlinewidth": 0,
              "ticks": ""
             }
            },
            "type": "scatter3d"
           }
          ],
          "scattercarpet": [
           {
            "marker": {
             "colorbar": {
              "outlinewidth": 0,
              "ticks": ""
             }
            },
            "type": "scattercarpet"
           }
          ],
          "scattergeo": [
           {
            "marker": {
             "colorbar": {
              "outlinewidth": 0,
              "ticks": ""
             }
            },
            "type": "scattergeo"
           }
          ],
          "scattergl": [
           {
            "marker": {
             "colorbar": {
              "outlinewidth": 0,
              "ticks": ""
             }
            },
            "type": "scattergl"
           }
          ],
          "scattermapbox": [
           {
            "marker": {
             "colorbar": {
              "outlinewidth": 0,
              "ticks": ""
             }
            },
            "type": "scattermapbox"
           }
          ],
          "scatterpolar": [
           {
            "marker": {
             "colorbar": {
              "outlinewidth": 0,
              "ticks": ""
             }
            },
            "type": "scatterpolar"
           }
          ],
          "scatterpolargl": [
           {
            "marker": {
             "colorbar": {
              "outlinewidth": 0,
              "ticks": ""
             }
            },
            "type": "scatterpolargl"
           }
          ],
          "scatterternary": [
           {
            "marker": {
             "colorbar": {
              "outlinewidth": 0,
              "ticks": ""
             }
            },
            "type": "scatterternary"
           }
          ],
          "surface": [
           {
            "colorbar": {
             "outlinewidth": 0,
             "ticks": ""
            },
            "colorscale": [
             [
              0,
              "#0d0887"
             ],
             [
              0.1111111111111111,
              "#46039f"
             ],
             [
              0.2222222222222222,
              "#7201a8"
             ],
             [
              0.3333333333333333,
              "#9c179e"
             ],
             [
              0.4444444444444444,
              "#bd3786"
             ],
             [
              0.5555555555555556,
              "#d8576b"
             ],
             [
              0.6666666666666666,
              "#ed7953"
             ],
             [
              0.7777777777777778,
              "#fb9f3a"
             ],
             [
              0.8888888888888888,
              "#fdca26"
             ],
             [
              1,
              "#f0f921"
             ]
            ],
            "type": "surface"
           }
          ],
          "table": [
           {
            "cells": {
             "fill": {
              "color": "#EBF0F8"
             },
             "line": {
              "color": "white"
             }
            },
            "header": {
             "fill": {
              "color": "#C8D4E3"
             },
             "line": {
              "color": "white"
             }
            },
            "type": "table"
           }
          ]
         },
         "layout": {
          "annotationdefaults": {
           "arrowcolor": "#2a3f5f",
           "arrowhead": 0,
           "arrowwidth": 1
          },
          "autotypenumbers": "strict",
          "coloraxis": {
           "colorbar": {
            "outlinewidth": 0,
            "ticks": ""
           }
          },
          "colorscale": {
           "diverging": [
            [
             0,
             "#8e0152"
            ],
            [
             0.1,
             "#c51b7d"
            ],
            [
             0.2,
             "#de77ae"
            ],
            [
             0.3,
             "#f1b6da"
            ],
            [
             0.4,
             "#fde0ef"
            ],
            [
             0.5,
             "#f7f7f7"
            ],
            [
             0.6,
             "#e6f5d0"
            ],
            [
             0.7,
             "#b8e186"
            ],
            [
             0.8,
             "#7fbc41"
            ],
            [
             0.9,
             "#4d9221"
            ],
            [
             1,
             "#276419"
            ]
           ],
           "sequential": [
            [
             0,
             "#0d0887"
            ],
            [
             0.1111111111111111,
             "#46039f"
            ],
            [
             0.2222222222222222,
             "#7201a8"
            ],
            [
             0.3333333333333333,
             "#9c179e"
            ],
            [
             0.4444444444444444,
             "#bd3786"
            ],
            [
             0.5555555555555556,
             "#d8576b"
            ],
            [
             0.6666666666666666,
             "#ed7953"
            ],
            [
             0.7777777777777778,
             "#fb9f3a"
            ],
            [
             0.8888888888888888,
             "#fdca26"
            ],
            [
             1,
             "#f0f921"
            ]
           ],
           "sequentialminus": [
            [
             0,
             "#0d0887"
            ],
            [
             0.1111111111111111,
             "#46039f"
            ],
            [
             0.2222222222222222,
             "#7201a8"
            ],
            [
             0.3333333333333333,
             "#9c179e"
            ],
            [
             0.4444444444444444,
             "#bd3786"
            ],
            [
             0.5555555555555556,
             "#d8576b"
            ],
            [
             0.6666666666666666,
             "#ed7953"
            ],
            [
             0.7777777777777778,
             "#fb9f3a"
            ],
            [
             0.8888888888888888,
             "#fdca26"
            ],
            [
             1,
             "#f0f921"
            ]
           ]
          },
          "colorway": [
           "#636efa",
           "#EF553B",
           "#00cc96",
           "#ab63fa",
           "#FFA15A",
           "#19d3f3",
           "#FF6692",
           "#B6E880",
           "#FF97FF",
           "#FECB52"
          ],
          "font": {
           "color": "#2a3f5f"
          },
          "geo": {
           "bgcolor": "white",
           "lakecolor": "white",
           "landcolor": "#E5ECF6",
           "showlakes": true,
           "showland": true,
           "subunitcolor": "white"
          },
          "hoverlabel": {
           "align": "left"
          },
          "hovermode": "closest",
          "mapbox": {
           "style": "light"
          },
          "paper_bgcolor": "white",
          "plot_bgcolor": "#E5ECF6",
          "polar": {
           "angularaxis": {
            "gridcolor": "white",
            "linecolor": "white",
            "ticks": ""
           },
           "bgcolor": "#E5ECF6",
           "radialaxis": {
            "gridcolor": "white",
            "linecolor": "white",
            "ticks": ""
           }
          },
          "scene": {
           "xaxis": {
            "backgroundcolor": "#E5ECF6",
            "gridcolor": "white",
            "gridwidth": 2,
            "linecolor": "white",
            "showbackground": true,
            "ticks": "",
            "zerolinecolor": "white"
           },
           "yaxis": {
            "backgroundcolor": "#E5ECF6",
            "gridcolor": "white",
            "gridwidth": 2,
            "linecolor": "white",
            "showbackground": true,
            "ticks": "",
            "zerolinecolor": "white"
           },
           "zaxis": {
            "backgroundcolor": "#E5ECF6",
            "gridcolor": "white",
            "gridwidth": 2,
            "linecolor": "white",
            "showbackground": true,
            "ticks": "",
            "zerolinecolor": "white"
           }
          },
          "shapedefaults": {
           "line": {
            "color": "#2a3f5f"
           }
          },
          "ternary": {
           "aaxis": {
            "gridcolor": "white",
            "linecolor": "white",
            "ticks": ""
           },
           "baxis": {
            "gridcolor": "white",
            "linecolor": "white",
            "ticks": ""
           },
           "bgcolor": "#E5ECF6",
           "caxis": {
            "gridcolor": "white",
            "linecolor": "white",
            "ticks": ""
           }
          },
          "title": {
           "x": 0.05
          },
          "xaxis": {
           "automargin": true,
           "gridcolor": "white",
           "linecolor": "white",
           "ticks": "",
           "title": {
            "standoff": 15
           },
           "zerolinecolor": "white",
           "zerolinewidth": 2
          },
          "yaxis": {
           "automargin": true,
           "gridcolor": "white",
           "linecolor": "white",
           "ticks": "",
           "title": {
            "standoff": 15
           },
           "zerolinecolor": "white",
           "zerolinewidth": 2
          }
         }
        },
        "title": {
         "text": "Russia - Sberbank Rossii PAO (SBER): Daily OHLC"
        },
        "width": 900,
        "yaxis": {
         "title": {
          "text": "Price (USD)"
         }
        }
       }
      }
     },
     "metadata": {},
     "output_type": "display_data"
    }
   ],
   "source": [
    "# import plotly.graph_objects as go\n",
    "\n",
    "# fig = go.Figure(data=[\n",
    "#     go.Candlestick(\n",
    "#     x=train_df_1.index,\n",
    "#     open=train_df_1['Open'],\n",
    "#     high=train_df_1['High'],\n",
    "#     low=train_df_1['Low'],\n",
    "#     close=train_df_1['Close']\n",
    "#     )\n",
    "#     ])\n",
    "\n",
    "# # fig.update_layout(\n",
    "# #     margin=dict(l=30, r=30, t=10, b=10),\n",
    "# #     # paper_bgcolor=\"LightSteelBlue\",\n",
    "# # )\n",
    "\n",
    "# fig.update_layout(\n",
    "#     title=f\"{stock_name_1}: Daily OHLC\", \n",
    "#     yaxis_title=\"Price (USD)\",\n",
    "#     width=900,\n",
    "#     height=600)\n",
    "\n",
    "# fig.show()"
   ]
  },
  {
   "cell_type": "code",
   "execution_count": null,
   "metadata": {},
   "outputs": [
    {
     "data": {
      "application/vnd.plotly.v1+json": {
       "config": {
        "plotlyServerURL": "https://plot.ly"
       },
       "data": [
        {
         "close": [
          255,
          253.9,
          259.15,
          257.99,
          258.19,
          262.4,
          259.05,
          256.31,
          257.51,
          262.5,
          266.28,
          268.06,
          266.54,
          263.73,
          265.49,
          255.32,
          257.7,
          259.94,
          257.31,
          252.2,
          253.99,
          255.4,
          255.2,
          252.11,
          254.3,
          252.26,
          254.5,
          254.5,
          253.89,
          251.75,
          251.36,
          249.2,
          249.7,
          250.15,
          250.8,
          245.19,
          250.8,
          242.88,
          233.36,
          228.17,
          236.63,
          235.27,
          232.33,
          219.99,
          201.2,
          194.53,
          175.91,
          198.6,
          195.85,
          184.01,
          174.27,
          189.51,
          195.69,
          183.37,
          192.64,
          188.08,
          188.07,
          180.38,
          183,
          187.21,
          184.78,
          186.95,
          185.64,
          190.7,
          197.63,
          200.29,
          203.61,
          201.99,
          198.26,
          197.37,
          186.07,
          188.5,
          191.8,
          189.32,
          186.05,
          190.2,
          190.94,
          188.91,
          188.9,
          192.8,
          195.8,
          197.25,
          193.69,
          194.75,
          195.7,
          195.51,
          196.02,
          191.4,
          187.31,
          183.81,
          183.85,
          188.93,
          189,
          193.98,
          192.4,
          188.9,
          191,
          194,
          198.51,
          205,
          200.5,
          203.66,
          212,
          221.5,
          213.1,
          219.1,
          220.3,
          217.23,
          212.53,
          208.35,
          207.32,
          207.76,
          208.14,
          203.77,
          207,
          206.4,
          207.3,
          206.92,
          203.15,
          205.8,
          203.22,
          209.6,
          210.95,
          214.61,
          210.53,
          210.97,
          209.11,
          212.28,
          208.39,
          209.5,
          211.09,
          211.35,
          210.81,
          213.89,
          215.73,
          216.71,
          215.41,
          215.97,
          216.9,
          215.53,
          219.18,
          218.15,
          221.57,
          226.72,
          227.16,
          226.4,
          226,
          227.28,
          225.99,
          232.65,
          242.4,
          241.39,
          239.99,
          237.8,
          236.3,
          239.4,
          232.48,
          231.22,
          231.81,
          228.08,
          227.8,
          226.23,
          226.3,
          226.1,
          227.64,
          222.57,
          218.32,
          222.21,
          221.32,
          217.68,
          218,
          220.6,
          221.07,
          227.37,
          231.5,
          231.06,
          231.46,
          230.3,
          226.25,
          229.88,
          228.5,
          228.17,
          228.24,
          228.63,
          225.48,
          229.14,
          227.23,
          208.8,
          208.89,
          211.18,
          210.6,
          207.97,
          205.38,
          206.18,
          205.03,
          207.83,
          203.85,
          201.17,
          202.78,
          209.54,
          210.33,
          210.21,
          214.5,
          211.1,
          207.64,
          204.73,
          205.58,
          200.99,
          204.5,
          209.2,
          216.7,
          217.5,
          228.05,
          236.1,
          244.2,
          242.08,
          242.99,
          247.99,
          245.7,
          242.71,
          240.27,
          239.42,
          239.7,
          247.33,
          251.91,
          250.1,
          251.59,
          249.63,
          260.81,
          264.06,
          263.14,
          270,
          274.36,
          275.49,
          276.89,
          282.2,
          283.73,
          279.95,
          278.7,
          278.35,
          278.5,
          270.16,
          261.79,
          262.04,
          270.1,
          269.32,
          270.64,
          274.7,
          272,
          271.65
         ],
         "high": [
          258.19,
          254.84,
          259.15,
          261.76,
          259.25,
          262.4,
          263.22,
          258.91,
          259.51,
          262.82,
          266.97,
          268.9,
          270.8,
          266.89,
          267.5,
          262.1,
          258.84,
          261.57,
          258.69,
          259.2,
          254.96,
          257.38,
          257.66,
          258,
          254.3,
          255.73,
          259.77,
          255.49,
          255.18,
          254.4,
          253.1,
          250.44,
          250.68,
          252.17,
          251.49,
          249,
          251.21,
          248.98,
          239,
          241,
          239,
          236.7,
          238.72,
          229.2,
          212.74,
          204.33,
          187.87,
          199.52,
          196.7,
          204.78,
          182.2,
          190.15,
          201.86,
          190.99,
          195,
          201,
          191.2,
          188.97,
          183.2,
          188.77,
          185.47,
          189.9,
          187.49,
          192.02,
          200.54,
          200.29,
          205.44,
          202.75,
          202.16,
          202.85,
          196.25,
          191.67,
          192.7,
          192.23,
          187.5,
          191.94,
          192.5,
          191.65,
          190.5,
          194.22,
          195.8,
          199.7,
          195.68,
          196.46,
          197.23,
          198.15,
          196.25,
          198,
          190.6,
          188.2,
          186.78,
          190,
          192.55,
          193.98,
          196.31,
          191.25,
          191.31,
          196.1,
          198.97,
          205,
          204.4,
          205.93,
          212,
          221.92,
          221,
          219.93,
          223.15,
          221.88,
          217.58,
          209.24,
          207.85,
          212.19,
          210.35,
          208.1,
          209.2,
          207.95,
          209.74,
          207,
          207.5,
          205.86,
          206,
          210.15,
          211.97,
          216.79,
          214.23,
          212.29,
          211.7,
          212.6,
          214.2,
          209.58,
          211.8,
          212.6,
          212.18,
          214.48,
          219.1,
          217.65,
          219.28,
          217.41,
          218.38,
          217.42,
          219.18,
          218.88,
          221.98,
          228.36,
          228.85,
          229.17,
          227.43,
          227.6,
          228.7,
          234.73,
          242.5,
          244.04,
          242.22,
          242.35,
          239.83,
          240.75,
          238.51,
          236.5,
          233.7,
          232.97,
          229.4,
          229.98,
          228.1,
          229.71,
          227.97,
          228.75,
          224.23,
          222.5,
          224.2,
          222.48,
          218.88,
          222.15,
          223.15,
          227.54,
          231.95,
          232.6,
          231.75,
          232.59,
          230.07,
          230.28,
          232.1,
          231.1,
          229.3,
          229.55,
          228.88,
          230.75,
          229.9,
          211.39,
          210.69,
          212.99,
          212.66,
          211.43,
          208.96,
          208.49,
          207.64,
          208,
          207.57,
          204.25,
          204,
          209.76,
          213.25,
          211.53,
          214.73,
          214.45,
          212.29,
          206.94,
          207.33,
          204.84,
          204.59,
          211.11,
          218.65,
          218.29,
          231.3,
          237.6,
          245.98,
          245.72,
          244.14,
          248.73,
          249.84,
          247.23,
          243.49,
          240.77,
          243.87,
          247.85,
          252.2,
          252.88,
          252.26,
          251,
          260.99,
          264.99,
          264.63,
          270.84,
          276.13,
          276.66,
          279.42,
          282.2,
          284.6,
          287.74,
          283.76,
          280.84,
          285.16,
          277.4,
          267.34,
          267.42,
          270.29,
          272.82,
          271,
          275.19,
          276.43,
          274.24
         ],
         "low": [
          253.7,
          251.4,
          253.03,
          257.01,
          256.88,
          257.15,
          258.62,
          254.21,
          256.1,
          257.75,
          261.8,
          263.02,
          265.5,
          262.24,
          264.21,
          255.32,
          254.1,
          257.61,
          255.27,
          252.17,
          251.1,
          252.9,
          253.14,
          251.86,
          248.73,
          252.07,
          253,
          252.31,
          252.5,
          251.4,
          250.13,
          247.57,
          247.95,
          249.13,
          247.24,
          245.17,
          243.22,
          242,
          231,
          218.86,
          232.28,
          232.62,
          230.64,
          216.67,
          184.86,
          192.05,
          173.14,
          174.3,
          186,
          183.8,
          172.15,
          173.06,
          192.05,
          182.1,
          189.1,
          182.32,
          182.8,
          180.17,
          174.9,
          184.25,
          182,
          182,
          184.28,
          186.42,
          193.02,
          195.12,
          199.3,
          200.7,
          197.32,
          196.1,
          186.06,
          183.53,
          188.28,
          187.31,
          183.65,
          184.5,
          188.68,
          187.7,
          188.43,
          188.17,
          192.86,
          195.46,
          193.26,
          194,
          194.3,
          195.06,
          194.6,
          191.2,
          186.66,
          183.5,
          183.33,
          185.4,
          186.8,
          186.6,
          191.5,
          188.6,
          188.8,
          192.11,
          193.32,
          198.4,
          199.17,
          201.81,
          204,
          213.51,
          212.55,
          213.6,
          217.45,
          215.44,
          211.82,
          206.01,
          202.3,
          207.52,
          206.94,
          202.72,
          204.55,
          204.28,
          206.43,
          200.75,
          201.76,
          200.97,
          202.36,
          204.28,
          209,
          212.94,
          210.51,
          209.3,
          208.1,
          206.57,
          208.11,
          205.7,
          207.65,
          208.63,
          209.86,
          209.08,
          214.38,
          213.56,
          215,
          197.73,
          215.15,
          215.25,
          215.63,
          215.34,
          217.43,
          221.3,
          225.63,
          224.31,
          224.35,
          224.46,
          224.51,
          226.21,
          233.03,
          238.57,
          238.47,
          234.5,
          235.69,
          235.19,
          230.33,
          227.35,
          230.2,
          226.9,
          224.7,
          225.6,
          225.19,
          225,
          226.01,
          220.85,
          218,
          216.75,
          220.5,
          216.29,
          216.8,
          215.79,
          219.75,
          222.13,
          227.39,
          230.15,
          228.57,
          229,
          223.49,
          225.46,
          227.61,
          225.75,
          226.25,
          227.35,
          223.1,
          223.25,
          226.86,
          206.5,
          207.72,
          208.35,
          209.03,
          207.26,
          204.4,
          204.57,
          204.77,
          204.78,
          201.95,
          200.5,
          201.55,
          202.5,
          208.9,
          207.84,
          209.15,
          210.5,
          206.66,
          202.3,
          203.64,
          200.61,
          196.15,
          203.8,
          211.43,
          213,
          218.7,
          226.27,
          236.89,
          240.22,
          238.62,
          244,
          243.41,
          242.59,
          237.34,
          236.57,
          238.52,
          239.57,
          246.55,
          247.44,
          248.03,
          245.98,
          249.8,
          258.8,
          260.85,
          264.5,
          268.1,
          271.52,
          275.87,
          275.2,
          279.78,
          277.1,
          276.07,
          276.14,
          276.54,
          268.52,
          259.7,
          257.05,
          260.22,
          267.13,
          268.28,
          269.73,
          271.26,
          270.12
         ],
         "open": [
          255.99,
          254.75,
          253.57,
          259.4,
          257.86,
          258.3,
          262.5,
          258.49,
          257.11,
          258.2,
          263.2,
          265.5,
          268.72,
          264.64,
          264.5,
          261,
          257,
          258.4,
          258,
          258.5,
          251.8,
          255.3,
          255.89,
          256.5,
          253.1,
          254.55,
          253.75,
          255.4,
          253.62,
          254.4,
          252.5,
          250.07,
          250.37,
          250.03,
          248.35,
          247.98,
          244.75,
          247.5,
          235,
          238.93,
          233,
          234.13,
          237,
          228,
          197.99,
          202,
          185.15,
          175,
          194,
          195,
          179,
          178.5,
          198.62,
          188,
          193.3,
          196.38,
          187.69,
          188.05,
          177,
          186,
          183.2,
          188.3,
          186.6,
          187.52,
          193.02,
          196.02,
          202.4,
          201.85,
          202,
          199.99,
          196,
          187.22,
          192.5,
          190.6,
          185.54,
          185.01,
          191.99,
          189.73,
          189.98,
          188.5,
          194.46,
          196.51,
          195.68,
          195.51,
          195,
          196,
          196,
          193.3,
          190.05,
          186.5,
          186.13,
          186.33,
          190.37,
          188.49,
          194,
          190.97,
          189.62,
          193,
          194,
          199.31,
          204.11,
          203.1,
          204.67,
          214,
          220.67,
          215.13,
          219.8,
          221.13,
          217,
          208.91,
          205.07,
          210.28,
          208.52,
          207.8,
          205.44,
          206.7,
          207.7,
          201,
          206.97,
          201,
          205.7,
          205,
          210,
          212.97,
          213,
          210.8,
          210.7,
          207.51,
          213.87,
          208.38,
          210.29,
          209.66,
          211.69,
          210.27,
          215,
          215.98,
          217.5,
          214.8,
          216.7,
          216.81,
          215.89,
          218.71,
          218.19,
          222.27,
          227.39,
          228.15,
          226.75,
          225,
          227.96,
          226.43,
          233.12,
          242.2,
          242,
          240.8,
          236.88,
          235.85,
          238.44,
          233.3,
          232.5,
          232.3,
          228.3,
          227.87,
          227,
          227,
          226.7,
          228.56,
          221.67,
          218,
          221.5,
          222,
          217.01,
          218.24,
          221.46,
          222.31,
          228.22,
          231.72,
          229.1,
          232,
          229.88,
          226,
          230.02,
          227.63,
          229,
          228.79,
          228.88,
          224.5,
          229.08,
          210.4,
          209.65,
          209,
          211.3,
          211.2,
          208.47,
          205.97,
          205.92,
          205.06,
          207.46,
          204.02,
          201.55,
          203,
          210.04,
          209.58,
          210,
          213.4,
          211.5,
          206.94,
          206.5,
          203.62,
          200.45,
          205.7,
          214.4,
          215.8,
          220,
          227,
          237,
          243.31,
          242.01,
          244.14,
          248,
          245.1,
          242.5,
          239.58,
          240.45,
          241.65,
          248,
          252.3,
          250.3,
          249.72,
          250.75,
          260.05,
          264.5,
          264.63,
          269,
          274.5,
          276.4,
          276.55,
          282.5,
          285.01,
          278.53,
          278,
          279.81,
          277.22,
          266.2,
          259.55,
          262.25,
          271.98,
          269.97,
          270.9,
          275.91,
          272.49
         ],
         "showlegend": false,
         "type": "candlestick",
         "x": [
          "2020-01-03T00:00:00",
          "2020-01-06T00:00:00",
          "2020-01-08T00:00:00",
          "2020-01-09T00:00:00",
          "2020-01-10T00:00:00",
          "2020-01-13T00:00:00",
          "2020-01-14T00:00:00",
          "2020-01-15T00:00:00",
          "2020-01-16T00:00:00",
          "2020-01-17T00:00:00",
          "2020-01-20T00:00:00",
          "2020-01-21T00:00:00",
          "2020-01-22T00:00:00",
          "2020-01-23T00:00:00",
          "2020-01-24T00:00:00",
          "2020-01-27T00:00:00",
          "2020-01-28T00:00:00",
          "2020-01-29T00:00:00",
          "2020-01-30T00:00:00",
          "2020-01-31T00:00:00",
          "2020-02-03T00:00:00",
          "2020-02-04T00:00:00",
          "2020-02-05T00:00:00",
          "2020-02-06T00:00:00",
          "2020-02-07T00:00:00",
          "2020-02-10T00:00:00",
          "2020-02-11T00:00:00",
          "2020-02-12T00:00:00",
          "2020-02-13T00:00:00",
          "2020-02-14T00:00:00",
          "2020-02-17T00:00:00",
          "2020-02-18T00:00:00",
          "2020-02-19T00:00:00",
          "2020-02-20T00:00:00",
          "2020-02-21T00:00:00",
          "2020-02-25T00:00:00",
          "2020-02-26T00:00:00",
          "2020-02-27T00:00:00",
          "2020-02-28T00:00:00",
          "2020-03-02T00:00:00",
          "2020-03-03T00:00:00",
          "2020-03-04T00:00:00",
          "2020-03-05T00:00:00",
          "2020-03-06T00:00:00",
          "2020-03-10T00:00:00",
          "2020-03-11T00:00:00",
          "2020-03-12T00:00:00",
          "2020-03-13T00:00:00",
          "2020-03-16T00:00:00",
          "2020-03-17T00:00:00",
          "2020-03-18T00:00:00",
          "2020-03-19T00:00:00",
          "2020-03-20T00:00:00",
          "2020-03-23T00:00:00",
          "2020-03-24T00:00:00",
          "2020-03-25T00:00:00",
          "2020-03-26T00:00:00",
          "2020-03-27T00:00:00",
          "2020-03-30T00:00:00",
          "2020-03-31T00:00:00",
          "2020-04-01T00:00:00",
          "2020-04-02T00:00:00",
          "2020-04-03T00:00:00",
          "2020-04-06T00:00:00",
          "2020-04-07T00:00:00",
          "2020-04-08T00:00:00",
          "2020-04-09T00:00:00",
          "2020-04-10T00:00:00",
          "2020-04-13T00:00:00",
          "2020-04-14T00:00:00",
          "2020-04-15T00:00:00",
          "2020-04-16T00:00:00",
          "2020-04-17T00:00:00",
          "2020-04-20T00:00:00",
          "2020-04-21T00:00:00",
          "2020-04-22T00:00:00",
          "2020-04-23T00:00:00",
          "2020-04-24T00:00:00",
          "2020-04-27T00:00:00",
          "2020-04-28T00:00:00",
          "2020-04-29T00:00:00",
          "2020-04-30T00:00:00",
          "2020-05-04T00:00:00",
          "2020-05-05T00:00:00",
          "2020-05-06T00:00:00",
          "2020-05-07T00:00:00",
          "2020-05-08T00:00:00",
          "2020-05-12T00:00:00",
          "2020-05-13T00:00:00",
          "2020-05-14T00:00:00",
          "2020-05-15T00:00:00",
          "2020-05-18T00:00:00",
          "2020-05-19T00:00:00",
          "2020-05-20T00:00:00",
          "2020-05-21T00:00:00",
          "2020-05-22T00:00:00",
          "2020-05-25T00:00:00",
          "2020-05-26T00:00:00",
          "2020-05-27T00:00:00",
          "2020-05-28T00:00:00",
          "2020-05-29T00:00:00",
          "2020-06-01T00:00:00",
          "2020-06-02T00:00:00",
          "2020-06-03T00:00:00",
          "2020-06-04T00:00:00",
          "2020-06-05T00:00:00",
          "2020-06-08T00:00:00",
          "2020-06-09T00:00:00",
          "2020-06-10T00:00:00",
          "2020-06-11T00:00:00",
          "2020-06-15T00:00:00",
          "2020-06-16T00:00:00",
          "2020-06-17T00:00:00",
          "2020-06-18T00:00:00",
          "2020-06-19T00:00:00",
          "2020-06-22T00:00:00",
          "2020-06-23T00:00:00",
          "2020-06-25T00:00:00",
          "2020-06-26T00:00:00",
          "2020-06-29T00:00:00",
          "2020-06-30T00:00:00",
          "2020-07-02T00:00:00",
          "2020-07-03T00:00:00",
          "2020-07-06T00:00:00",
          "2020-07-07T00:00:00",
          "2020-07-08T00:00:00",
          "2020-07-09T00:00:00",
          "2020-07-10T00:00:00",
          "2020-07-13T00:00:00",
          "2020-07-14T00:00:00",
          "2020-07-15T00:00:00",
          "2020-07-16T00:00:00",
          "2020-07-17T00:00:00",
          "2020-07-20T00:00:00",
          "2020-07-21T00:00:00",
          "2020-07-22T00:00:00",
          "2020-07-23T00:00:00",
          "2020-07-24T00:00:00",
          "2020-07-27T00:00:00",
          "2020-07-28T00:00:00",
          "2020-07-29T00:00:00",
          "2020-07-30T00:00:00",
          "2020-07-31T00:00:00",
          "2020-08-03T00:00:00",
          "2020-08-04T00:00:00",
          "2020-08-05T00:00:00",
          "2020-08-06T00:00:00",
          "2020-08-07T00:00:00",
          "2020-08-10T00:00:00",
          "2020-08-11T00:00:00",
          "2020-08-12T00:00:00",
          "2020-08-13T00:00:00",
          "2020-08-14T00:00:00",
          "2020-08-17T00:00:00",
          "2020-08-18T00:00:00",
          "2020-08-19T00:00:00",
          "2020-08-20T00:00:00",
          "2020-08-21T00:00:00",
          "2020-08-24T00:00:00",
          "2020-08-25T00:00:00",
          "2020-08-26T00:00:00",
          "2020-08-27T00:00:00",
          "2020-08-28T00:00:00",
          "2020-08-31T00:00:00",
          "2020-09-01T00:00:00",
          "2020-09-02T00:00:00",
          "2020-09-03T00:00:00",
          "2020-09-04T00:00:00",
          "2020-09-07T00:00:00",
          "2020-09-08T00:00:00",
          "2020-09-09T00:00:00",
          "2020-09-10T00:00:00",
          "2020-09-11T00:00:00",
          "2020-09-14T00:00:00",
          "2020-09-15T00:00:00",
          "2020-09-16T00:00:00",
          "2020-09-17T00:00:00",
          "2020-09-18T00:00:00",
          "2020-09-21T00:00:00",
          "2020-09-22T00:00:00",
          "2020-09-23T00:00:00",
          "2020-09-24T00:00:00",
          "2020-09-25T00:00:00",
          "2020-09-28T00:00:00",
          "2020-09-29T00:00:00",
          "2020-09-30T00:00:00",
          "2020-10-01T00:00:00",
          "2020-10-02T00:00:00",
          "2020-10-05T00:00:00",
          "2020-10-06T00:00:00",
          "2020-10-07T00:00:00",
          "2020-10-08T00:00:00",
          "2020-10-09T00:00:00",
          "2020-10-12T00:00:00",
          "2020-10-13T00:00:00",
          "2020-10-14T00:00:00",
          "2020-10-15T00:00:00",
          "2020-10-16T00:00:00",
          "2020-10-19T00:00:00",
          "2020-10-20T00:00:00",
          "2020-10-21T00:00:00",
          "2020-10-22T00:00:00",
          "2020-10-23T00:00:00",
          "2020-10-26T00:00:00",
          "2020-10-27T00:00:00",
          "2020-10-28T00:00:00",
          "2020-10-29T00:00:00",
          "2020-10-30T00:00:00",
          "2020-11-02T00:00:00",
          "2020-11-03T00:00:00",
          "2020-11-05T00:00:00",
          "2020-11-06T00:00:00",
          "2020-11-09T00:00:00",
          "2020-11-10T00:00:00",
          "2020-11-11T00:00:00",
          "2020-11-12T00:00:00",
          "2020-11-13T00:00:00",
          "2020-11-16T00:00:00",
          "2020-11-17T00:00:00",
          "2020-11-18T00:00:00",
          "2020-11-19T00:00:00",
          "2020-11-20T00:00:00",
          "2020-11-23T00:00:00",
          "2020-11-24T00:00:00",
          "2020-11-25T00:00:00",
          "2020-11-26T00:00:00",
          "2020-11-27T00:00:00",
          "2020-11-30T00:00:00",
          "2020-12-01T00:00:00",
          "2020-12-02T00:00:00",
          "2020-12-03T00:00:00",
          "2020-12-04T00:00:00",
          "2020-12-07T00:00:00",
          "2020-12-08T00:00:00",
          "2020-12-09T00:00:00",
          "2020-12-10T00:00:00",
          "2020-12-11T00:00:00",
          "2020-12-14T00:00:00",
          "2020-12-15T00:00:00",
          "2020-12-16T00:00:00",
          "2020-12-17T00:00:00",
          "2020-12-18T00:00:00",
          "2020-12-21T00:00:00",
          "2020-12-22T00:00:00",
          "2020-12-23T00:00:00",
          "2020-12-24T00:00:00",
          "2020-12-25T00:00:00",
          "2020-12-28T00:00:00",
          "2020-12-29T00:00:00",
          "2020-12-30T00:00:00"
         ],
         "xaxis": "x",
         "yaxis": "y2"
        },
        {
         "marker": {
          "color": "grey"
         },
         "showlegend": false,
         "type": "bar",
         "x": [
          "2020-01-03T00:00:00",
          "2020-01-06T00:00:00",
          "2020-01-08T00:00:00",
          "2020-01-09T00:00:00",
          "2020-01-10T00:00:00",
          "2020-01-13T00:00:00",
          "2020-01-14T00:00:00",
          "2020-01-15T00:00:00",
          "2020-01-16T00:00:00",
          "2020-01-17T00:00:00",
          "2020-01-20T00:00:00",
          "2020-01-21T00:00:00",
          "2020-01-22T00:00:00",
          "2020-01-23T00:00:00",
          "2020-01-24T00:00:00",
          "2020-01-27T00:00:00",
          "2020-01-28T00:00:00",
          "2020-01-29T00:00:00",
          "2020-01-30T00:00:00",
          "2020-01-31T00:00:00",
          "2020-02-03T00:00:00",
          "2020-02-04T00:00:00",
          "2020-02-05T00:00:00",
          "2020-02-06T00:00:00",
          "2020-02-07T00:00:00",
          "2020-02-10T00:00:00",
          "2020-02-11T00:00:00",
          "2020-02-12T00:00:00",
          "2020-02-13T00:00:00",
          "2020-02-14T00:00:00",
          "2020-02-17T00:00:00",
          "2020-02-18T00:00:00",
          "2020-02-19T00:00:00",
          "2020-02-20T00:00:00",
          "2020-02-21T00:00:00",
          "2020-02-25T00:00:00",
          "2020-02-26T00:00:00",
          "2020-02-27T00:00:00",
          "2020-02-28T00:00:00",
          "2020-03-02T00:00:00",
          "2020-03-03T00:00:00",
          "2020-03-04T00:00:00",
          "2020-03-05T00:00:00",
          "2020-03-06T00:00:00",
          "2020-03-10T00:00:00",
          "2020-03-11T00:00:00",
          "2020-03-12T00:00:00",
          "2020-03-13T00:00:00",
          "2020-03-16T00:00:00",
          "2020-03-17T00:00:00",
          "2020-03-18T00:00:00",
          "2020-03-19T00:00:00",
          "2020-03-20T00:00:00",
          "2020-03-23T00:00:00",
          "2020-03-24T00:00:00",
          "2020-03-25T00:00:00",
          "2020-03-26T00:00:00",
          "2020-03-27T00:00:00",
          "2020-03-30T00:00:00",
          "2020-03-31T00:00:00",
          "2020-04-01T00:00:00",
          "2020-04-02T00:00:00",
          "2020-04-03T00:00:00",
          "2020-04-06T00:00:00",
          "2020-04-07T00:00:00",
          "2020-04-08T00:00:00",
          "2020-04-09T00:00:00",
          "2020-04-10T00:00:00",
          "2020-04-13T00:00:00",
          "2020-04-14T00:00:00",
          "2020-04-15T00:00:00",
          "2020-04-16T00:00:00",
          "2020-04-17T00:00:00",
          "2020-04-20T00:00:00",
          "2020-04-21T00:00:00",
          "2020-04-22T00:00:00",
          "2020-04-23T00:00:00",
          "2020-04-24T00:00:00",
          "2020-04-27T00:00:00",
          "2020-04-28T00:00:00",
          "2020-04-29T00:00:00",
          "2020-04-30T00:00:00",
          "2020-05-04T00:00:00",
          "2020-05-05T00:00:00",
          "2020-05-06T00:00:00",
          "2020-05-07T00:00:00",
          "2020-05-08T00:00:00",
          "2020-05-12T00:00:00",
          "2020-05-13T00:00:00",
          "2020-05-14T00:00:00",
          "2020-05-15T00:00:00",
          "2020-05-18T00:00:00",
          "2020-05-19T00:00:00",
          "2020-05-20T00:00:00",
          "2020-05-21T00:00:00",
          "2020-05-22T00:00:00",
          "2020-05-25T00:00:00",
          "2020-05-26T00:00:00",
          "2020-05-27T00:00:00",
          "2020-05-28T00:00:00",
          "2020-05-29T00:00:00",
          "2020-06-01T00:00:00",
          "2020-06-02T00:00:00",
          "2020-06-03T00:00:00",
          "2020-06-04T00:00:00",
          "2020-06-05T00:00:00",
          "2020-06-08T00:00:00",
          "2020-06-09T00:00:00",
          "2020-06-10T00:00:00",
          "2020-06-11T00:00:00",
          "2020-06-15T00:00:00",
          "2020-06-16T00:00:00",
          "2020-06-17T00:00:00",
          "2020-06-18T00:00:00",
          "2020-06-19T00:00:00",
          "2020-06-22T00:00:00",
          "2020-06-23T00:00:00",
          "2020-06-25T00:00:00",
          "2020-06-26T00:00:00",
          "2020-06-29T00:00:00",
          "2020-06-30T00:00:00",
          "2020-07-02T00:00:00",
          "2020-07-03T00:00:00",
          "2020-07-06T00:00:00",
          "2020-07-07T00:00:00",
          "2020-07-08T00:00:00",
          "2020-07-09T00:00:00",
          "2020-07-10T00:00:00",
          "2020-07-13T00:00:00",
          "2020-07-14T00:00:00",
          "2020-07-15T00:00:00",
          "2020-07-16T00:00:00",
          "2020-07-17T00:00:00",
          "2020-07-20T00:00:00",
          "2020-07-21T00:00:00",
          "2020-07-22T00:00:00",
          "2020-07-23T00:00:00",
          "2020-07-24T00:00:00",
          "2020-07-27T00:00:00",
          "2020-07-28T00:00:00",
          "2020-07-29T00:00:00",
          "2020-07-30T00:00:00",
          "2020-07-31T00:00:00",
          "2020-08-03T00:00:00",
          "2020-08-04T00:00:00",
          "2020-08-05T00:00:00",
          "2020-08-06T00:00:00",
          "2020-08-07T00:00:00",
          "2020-08-10T00:00:00",
          "2020-08-11T00:00:00",
          "2020-08-12T00:00:00",
          "2020-08-13T00:00:00",
          "2020-08-14T00:00:00",
          "2020-08-17T00:00:00",
          "2020-08-18T00:00:00",
          "2020-08-19T00:00:00",
          "2020-08-20T00:00:00",
          "2020-08-21T00:00:00",
          "2020-08-24T00:00:00",
          "2020-08-25T00:00:00",
          "2020-08-26T00:00:00",
          "2020-08-27T00:00:00",
          "2020-08-28T00:00:00",
          "2020-08-31T00:00:00",
          "2020-09-01T00:00:00",
          "2020-09-02T00:00:00",
          "2020-09-03T00:00:00",
          "2020-09-04T00:00:00",
          "2020-09-07T00:00:00",
          "2020-09-08T00:00:00",
          "2020-09-09T00:00:00",
          "2020-09-10T00:00:00",
          "2020-09-11T00:00:00",
          "2020-09-14T00:00:00",
          "2020-09-15T00:00:00",
          "2020-09-16T00:00:00",
          "2020-09-17T00:00:00",
          "2020-09-18T00:00:00",
          "2020-09-21T00:00:00",
          "2020-09-22T00:00:00",
          "2020-09-23T00:00:00",
          "2020-09-24T00:00:00",
          "2020-09-25T00:00:00",
          "2020-09-28T00:00:00",
          "2020-09-29T00:00:00",
          "2020-09-30T00:00:00",
          "2020-10-01T00:00:00",
          "2020-10-02T00:00:00",
          "2020-10-05T00:00:00",
          "2020-10-06T00:00:00",
          "2020-10-07T00:00:00",
          "2020-10-08T00:00:00",
          "2020-10-09T00:00:00",
          "2020-10-12T00:00:00",
          "2020-10-13T00:00:00",
          "2020-10-14T00:00:00",
          "2020-10-15T00:00:00",
          "2020-10-16T00:00:00",
          "2020-10-19T00:00:00",
          "2020-10-20T00:00:00",
          "2020-10-21T00:00:00",
          "2020-10-22T00:00:00",
          "2020-10-23T00:00:00",
          "2020-10-26T00:00:00",
          "2020-10-27T00:00:00",
          "2020-10-28T00:00:00",
          "2020-10-29T00:00:00",
          "2020-10-30T00:00:00",
          "2020-11-02T00:00:00",
          "2020-11-03T00:00:00",
          "2020-11-05T00:00:00",
          "2020-11-06T00:00:00",
          "2020-11-09T00:00:00",
          "2020-11-10T00:00:00",
          "2020-11-11T00:00:00",
          "2020-11-12T00:00:00",
          "2020-11-13T00:00:00",
          "2020-11-16T00:00:00",
          "2020-11-17T00:00:00",
          "2020-11-18T00:00:00",
          "2020-11-19T00:00:00",
          "2020-11-20T00:00:00",
          "2020-11-23T00:00:00",
          "2020-11-24T00:00:00",
          "2020-11-25T00:00:00",
          "2020-11-26T00:00:00",
          "2020-11-27T00:00:00",
          "2020-11-30T00:00:00",
          "2020-12-01T00:00:00",
          "2020-12-02T00:00:00",
          "2020-12-03T00:00:00",
          "2020-12-04T00:00:00",
          "2020-12-07T00:00:00",
          "2020-12-08T00:00:00",
          "2020-12-09T00:00:00",
          "2020-12-10T00:00:00",
          "2020-12-11T00:00:00",
          "2020-12-14T00:00:00",
          "2020-12-15T00:00:00",
          "2020-12-16T00:00:00",
          "2020-12-17T00:00:00",
          "2020-12-18T00:00:00",
          "2020-12-21T00:00:00",
          "2020-12-22T00:00:00",
          "2020-12-23T00:00:00",
          "2020-12-24T00:00:00",
          "2020-12-25T00:00:00",
          "2020-12-28T00:00:00",
          "2020-12-29T00:00:00",
          "2020-12-30T00:00:00"
         ],
         "xaxis": "x",
         "y": [
          35850000,
          22350000,
          40820000,
          38330000,
          18850000,
          25860000,
          31130000,
          49360000,
          40250000,
          44910000,
          29800000,
          38080000,
          44280000,
          40600000,
          27340000,
          56450000,
          48140000,
          35050000,
          31770000,
          47920000,
          52730000,
          49790000,
          50760000,
          43620000,
          50230000,
          35220000,
          79450000,
          52520000,
          36730000,
          30020000,
          26430000,
          36370000,
          25800000,
          30720000,
          27760000,
          41060000,
          67760000,
          58240000,
          124630000,
          101990000,
          83650000,
          54270000,
          57080000,
          104450000,
          244540000,
          138300000,
          197970000,
          263040000.00000003,
          174270000,
          184150000,
          155010000,
          187430000,
          170580000,
          157890000,
          104880000,
          187980000,
          111600000,
          114280000,
          94330000,
          114030000,
          76830000,
          125640000,
          92860000,
          77860000,
          136420000,
          89980000,
          109980000,
          28760000,
          41280000,
          80220000,
          98160000,
          109170000,
          71730000,
          62240000,
          94310000,
          75360000,
          62760000,
          55310000,
          43710000,
          78580000,
          69840000,
          87200000,
          56400000,
          35440000,
          49560000,
          57730000,
          33840000,
          67660000,
          63470000,
          76680000,
          63150000,
          77550000,
          105320000,
          93340000,
          79540000,
          57010000,
          23140000,
          79310000,
          116070000,
          117180000,
          106650000,
          65650000.00000001,
          116870000,
          145040000,
          122490000,
          88660000,
          88830000,
          69170000,
          91900000,
          70030000,
          76000000,
          66560000,
          56580000,
          72280000,
          75050000,
          58660000,
          53490000,
          71500000,
          46690000,
          43080000,
          43750000,
          76380000,
          50640000,
          55460000,
          44730000,
          42070000,
          45190000,
          50710000,
          51330000,
          66040000.00000001,
          49530000,
          39030000,
          36140000,
          44510000,
          75650000,
          48440000,
          43420000,
          53570000,
          38320000,
          24610000,
          41350000,
          51260000,
          59710000,
          64560000,
          42020000,
          54640000,
          30160000,
          35640000,
          43500000,
          81880000,
          101000000,
          85720000,
          44280000,
          77120000,
          36760000,
          38230000,
          116940000,
          138910000,
          44550000,
          58980000,
          75780000,
          51030000,
          40750000,
          62020000,
          37550000,
          77850000,
          69470000,
          70670000,
          59330000,
          70020000,
          48060000,
          71200000,
          45690000,
          62910000,
          61910000,
          39610000,
          49130000,
          54620000,
          70300000,
          66620000.00000001,
          71300000,
          82000000,
          60250000,
          64519999.99999999,
          90420000,
          78600000,
          77830000,
          114320000,
          45600000,
          87530000,
          62050000,
          49550000,
          65519999.99999999,
          52320000,
          46020000,
          46840000,
          76500000,
          66260000.00000001,
          47420000,
          80920000,
          82510000,
          46860000,
          75360000,
          58920000,
          61080000,
          70170000,
          91510000,
          83660000,
          82340000,
          90370000,
          152550000,
          95000000,
          217540000,
          229600000,
          234840000,
          151440000,
          106150000,
          113950000,
          94920000,
          60090000,
          97140000,
          48800000,
          74830000,
          84520000,
          133400000,
          79920000,
          51430000,
          112140000,
          132070000,
          93450000,
          62240000,
          94640000,
          94790000,
          78860000,
          73640000,
          75660000,
          76100000,
          90420000,
          84190000,
          54750000,
          92140000,
          99270000,
          120520000,
          105490000,
          67940000,
          42610000,
          11990000,
          39040000,
          39020000,
          31530000
         ],
         "yaxis": "y"
        }
       ],
       "layout": {
        "height": 600,
        "template": {
         "data": {
          "bar": [
           {
            "error_x": {
             "color": "#2a3f5f"
            },
            "error_y": {
             "color": "#2a3f5f"
            },
            "marker": {
             "line": {
              "color": "#E5ECF6",
              "width": 0.5
             },
             "pattern": {
              "fillmode": "overlay",
              "size": 10,
              "solidity": 0.2
             }
            },
            "type": "bar"
           }
          ],
          "barpolar": [
           {
            "marker": {
             "line": {
              "color": "#E5ECF6",
              "width": 0.5
             },
             "pattern": {
              "fillmode": "overlay",
              "size": 10,
              "solidity": 0.2
             }
            },
            "type": "barpolar"
           }
          ],
          "carpet": [
           {
            "aaxis": {
             "endlinecolor": "#2a3f5f",
             "gridcolor": "white",
             "linecolor": "white",
             "minorgridcolor": "white",
             "startlinecolor": "#2a3f5f"
            },
            "baxis": {
             "endlinecolor": "#2a3f5f",
             "gridcolor": "white",
             "linecolor": "white",
             "minorgridcolor": "white",
             "startlinecolor": "#2a3f5f"
            },
            "type": "carpet"
           }
          ],
          "choropleth": [
           {
            "colorbar": {
             "outlinewidth": 0,
             "ticks": ""
            },
            "type": "choropleth"
           }
          ],
          "contour": [
           {
            "colorbar": {
             "outlinewidth": 0,
             "ticks": ""
            },
            "colorscale": [
             [
              0,
              "#0d0887"
             ],
             [
              0.1111111111111111,
              "#46039f"
             ],
             [
              0.2222222222222222,
              "#7201a8"
             ],
             [
              0.3333333333333333,
              "#9c179e"
             ],
             [
              0.4444444444444444,
              "#bd3786"
             ],
             [
              0.5555555555555556,
              "#d8576b"
             ],
             [
              0.6666666666666666,
              "#ed7953"
             ],
             [
              0.7777777777777778,
              "#fb9f3a"
             ],
             [
              0.8888888888888888,
              "#fdca26"
             ],
             [
              1,
              "#f0f921"
             ]
            ],
            "type": "contour"
           }
          ],
          "contourcarpet": [
           {
            "colorbar": {
             "outlinewidth": 0,
             "ticks": ""
            },
            "type": "contourcarpet"
           }
          ],
          "heatmap": [
           {
            "colorbar": {
             "outlinewidth": 0,
             "ticks": ""
            },
            "colorscale": [
             [
              0,
              "#0d0887"
             ],
             [
              0.1111111111111111,
              "#46039f"
             ],
             [
              0.2222222222222222,
              "#7201a8"
             ],
             [
              0.3333333333333333,
              "#9c179e"
             ],
             [
              0.4444444444444444,
              "#bd3786"
             ],
             [
              0.5555555555555556,
              "#d8576b"
             ],
             [
              0.6666666666666666,
              "#ed7953"
             ],
             [
              0.7777777777777778,
              "#fb9f3a"
             ],
             [
              0.8888888888888888,
              "#fdca26"
             ],
             [
              1,
              "#f0f921"
             ]
            ],
            "type": "heatmap"
           }
          ],
          "heatmapgl": [
           {
            "colorbar": {
             "outlinewidth": 0,
             "ticks": ""
            },
            "colorscale": [
             [
              0,
              "#0d0887"
             ],
             [
              0.1111111111111111,
              "#46039f"
             ],
             [
              0.2222222222222222,
              "#7201a8"
             ],
             [
              0.3333333333333333,
              "#9c179e"
             ],
             [
              0.4444444444444444,
              "#bd3786"
             ],
             [
              0.5555555555555556,
              "#d8576b"
             ],
             [
              0.6666666666666666,
              "#ed7953"
             ],
             [
              0.7777777777777778,
              "#fb9f3a"
             ],
             [
              0.8888888888888888,
              "#fdca26"
             ],
             [
              1,
              "#f0f921"
             ]
            ],
            "type": "heatmapgl"
           }
          ],
          "histogram": [
           {
            "marker": {
             "pattern": {
              "fillmode": "overlay",
              "size": 10,
              "solidity": 0.2
             }
            },
            "type": "histogram"
           }
          ],
          "histogram2d": [
           {
            "colorbar": {
             "outlinewidth": 0,
             "ticks": ""
            },
            "colorscale": [
             [
              0,
              "#0d0887"
             ],
             [
              0.1111111111111111,
              "#46039f"
             ],
             [
              0.2222222222222222,
              "#7201a8"
             ],
             [
              0.3333333333333333,
              "#9c179e"
             ],
             [
              0.4444444444444444,
              "#bd3786"
             ],
             [
              0.5555555555555556,
              "#d8576b"
             ],
             [
              0.6666666666666666,
              "#ed7953"
             ],
             [
              0.7777777777777778,
              "#fb9f3a"
             ],
             [
              0.8888888888888888,
              "#fdca26"
             ],
             [
              1,
              "#f0f921"
             ]
            ],
            "type": "histogram2d"
           }
          ],
          "histogram2dcontour": [
           {
            "colorbar": {
             "outlinewidth": 0,
             "ticks": ""
            },
            "colorscale": [
             [
              0,
              "#0d0887"
             ],
             [
              0.1111111111111111,
              "#46039f"
             ],
             [
              0.2222222222222222,
              "#7201a8"
             ],
             [
              0.3333333333333333,
              "#9c179e"
             ],
             [
              0.4444444444444444,
              "#bd3786"
             ],
             [
              0.5555555555555556,
              "#d8576b"
             ],
             [
              0.6666666666666666,
              "#ed7953"
             ],
             [
              0.7777777777777778,
              "#fb9f3a"
             ],
             [
              0.8888888888888888,
              "#fdca26"
             ],
             [
              1,
              "#f0f921"
             ]
            ],
            "type": "histogram2dcontour"
           }
          ],
          "mesh3d": [
           {
            "colorbar": {
             "outlinewidth": 0,
             "ticks": ""
            },
            "type": "mesh3d"
           }
          ],
          "parcoords": [
           {
            "line": {
             "colorbar": {
              "outlinewidth": 0,
              "ticks": ""
             }
            },
            "type": "parcoords"
           }
          ],
          "pie": [
           {
            "automargin": true,
            "type": "pie"
           }
          ],
          "scatter": [
           {
            "fillpattern": {
             "fillmode": "overlay",
             "size": 10,
             "solidity": 0.2
            },
            "type": "scatter"
           }
          ],
          "scatter3d": [
           {
            "line": {
             "colorbar": {
              "outlinewidth": 0,
              "ticks": ""
             }
            },
            "marker": {
             "colorbar": {
              "outlinewidth": 0,
              "ticks": ""
             }
            },
            "type": "scatter3d"
           }
          ],
          "scattercarpet": [
           {
            "marker": {
             "colorbar": {
              "outlinewidth": 0,
              "ticks": ""
             }
            },
            "type": "scattercarpet"
           }
          ],
          "scattergeo": [
           {
            "marker": {
             "colorbar": {
              "outlinewidth": 0,
              "ticks": ""
             }
            },
            "type": "scattergeo"
           }
          ],
          "scattergl": [
           {
            "marker": {
             "colorbar": {
              "outlinewidth": 0,
              "ticks": ""
             }
            },
            "type": "scattergl"
           }
          ],
          "scattermapbox": [
           {
            "marker": {
             "colorbar": {
              "outlinewidth": 0,
              "ticks": ""
             }
            },
            "type": "scattermapbox"
           }
          ],
          "scatterpolar": [
           {
            "marker": {
             "colorbar": {
              "outlinewidth": 0,
              "ticks": ""
             }
            },
            "type": "scatterpolar"
           }
          ],
          "scatterpolargl": [
           {
            "marker": {
             "colorbar": {
              "outlinewidth": 0,
              "ticks": ""
             }
            },
            "type": "scatterpolargl"
           }
          ],
          "scatterternary": [
           {
            "marker": {
             "colorbar": {
              "outlinewidth": 0,
              "ticks": ""
             }
            },
            "type": "scatterternary"
           }
          ],
          "surface": [
           {
            "colorbar": {
             "outlinewidth": 0,
             "ticks": ""
            },
            "colorscale": [
             [
              0,
              "#0d0887"
             ],
             [
              0.1111111111111111,
              "#46039f"
             ],
             [
              0.2222222222222222,
              "#7201a8"
             ],
             [
              0.3333333333333333,
              "#9c179e"
             ],
             [
              0.4444444444444444,
              "#bd3786"
             ],
             [
              0.5555555555555556,
              "#d8576b"
             ],
             [
              0.6666666666666666,
              "#ed7953"
             ],
             [
              0.7777777777777778,
              "#fb9f3a"
             ],
             [
              0.8888888888888888,
              "#fdca26"
             ],
             [
              1,
              "#f0f921"
             ]
            ],
            "type": "surface"
           }
          ],
          "table": [
           {
            "cells": {
             "fill": {
              "color": "#EBF0F8"
             },
             "line": {
              "color": "white"
             }
            },
            "header": {
             "fill": {
              "color": "#C8D4E3"
             },
             "line": {
              "color": "white"
             }
            },
            "type": "table"
           }
          ]
         },
         "layout": {
          "annotationdefaults": {
           "arrowcolor": "#2a3f5f",
           "arrowhead": 0,
           "arrowwidth": 1
          },
          "autotypenumbers": "strict",
          "coloraxis": {
           "colorbar": {
            "outlinewidth": 0,
            "ticks": ""
           }
          },
          "colorscale": {
           "diverging": [
            [
             0,
             "#8e0152"
            ],
            [
             0.1,
             "#c51b7d"
            ],
            [
             0.2,
             "#de77ae"
            ],
            [
             0.3,
             "#f1b6da"
            ],
            [
             0.4,
             "#fde0ef"
            ],
            [
             0.5,
             "#f7f7f7"
            ],
            [
             0.6,
             "#e6f5d0"
            ],
            [
             0.7,
             "#b8e186"
            ],
            [
             0.8,
             "#7fbc41"
            ],
            [
             0.9,
             "#4d9221"
            ],
            [
             1,
             "#276419"
            ]
           ],
           "sequential": [
            [
             0,
             "#0d0887"
            ],
            [
             0.1111111111111111,
             "#46039f"
            ],
            [
             0.2222222222222222,
             "#7201a8"
            ],
            [
             0.3333333333333333,
             "#9c179e"
            ],
            [
             0.4444444444444444,
             "#bd3786"
            ],
            [
             0.5555555555555556,
             "#d8576b"
            ],
            [
             0.6666666666666666,
             "#ed7953"
            ],
            [
             0.7777777777777778,
             "#fb9f3a"
            ],
            [
             0.8888888888888888,
             "#fdca26"
            ],
            [
             1,
             "#f0f921"
            ]
           ],
           "sequentialminus": [
            [
             0,
             "#0d0887"
            ],
            [
             0.1111111111111111,
             "#46039f"
            ],
            [
             0.2222222222222222,
             "#7201a8"
            ],
            [
             0.3333333333333333,
             "#9c179e"
            ],
            [
             0.4444444444444444,
             "#bd3786"
            ],
            [
             0.5555555555555556,
             "#d8576b"
            ],
            [
             0.6666666666666666,
             "#ed7953"
            ],
            [
             0.7777777777777778,
             "#fb9f3a"
            ],
            [
             0.8888888888888888,
             "#fdca26"
            ],
            [
             1,
             "#f0f921"
            ]
           ]
          },
          "colorway": [
           "#636efa",
           "#EF553B",
           "#00cc96",
           "#ab63fa",
           "#FFA15A",
           "#19d3f3",
           "#FF6692",
           "#B6E880",
           "#FF97FF",
           "#FECB52"
          ],
          "font": {
           "color": "#2a3f5f"
          },
          "geo": {
           "bgcolor": "white",
           "lakecolor": "white",
           "landcolor": "#E5ECF6",
           "showlakes": true,
           "showland": true,
           "subunitcolor": "white"
          },
          "hoverlabel": {
           "align": "left"
          },
          "hovermode": "closest",
          "mapbox": {
           "style": "light"
          },
          "paper_bgcolor": "white",
          "plot_bgcolor": "#E5ECF6",
          "polar": {
           "angularaxis": {
            "gridcolor": "white",
            "linecolor": "white",
            "ticks": ""
           },
           "bgcolor": "#E5ECF6",
           "radialaxis": {
            "gridcolor": "white",
            "linecolor": "white",
            "ticks": ""
           }
          },
          "scene": {
           "xaxis": {
            "backgroundcolor": "#E5ECF6",
            "gridcolor": "white",
            "gridwidth": 2,
            "linecolor": "white",
            "showbackground": true,
            "ticks": "",
            "zerolinecolor": "white"
           },
           "yaxis": {
            "backgroundcolor": "#E5ECF6",
            "gridcolor": "white",
            "gridwidth": 2,
            "linecolor": "white",
            "showbackground": true,
            "ticks": "",
            "zerolinecolor": "white"
           },
           "zaxis": {
            "backgroundcolor": "#E5ECF6",
            "gridcolor": "white",
            "gridwidth": 2,
            "linecolor": "white",
            "showbackground": true,
            "ticks": "",
            "zerolinecolor": "white"
           }
          },
          "shapedefaults": {
           "line": {
            "color": "#2a3f5f"
           }
          },
          "ternary": {
           "aaxis": {
            "gridcolor": "white",
            "linecolor": "white",
            "ticks": ""
           },
           "baxis": {
            "gridcolor": "white",
            "linecolor": "white",
            "ticks": ""
           },
           "bgcolor": "#E5ECF6",
           "caxis": {
            "gridcolor": "white",
            "linecolor": "white",
            "ticks": ""
           }
          },
          "title": {
           "x": 0.05
          },
          "xaxis": {
           "automargin": true,
           "gridcolor": "white",
           "linecolor": "white",
           "ticks": "",
           "title": {
            "standoff": 15
           },
           "zerolinecolor": "white",
           "zerolinewidth": 2
          },
          "yaxis": {
           "automargin": true,
           "gridcolor": "white",
           "linecolor": "white",
           "ticks": "",
           "title": {
            "standoff": 15
           },
           "zerolinecolor": "white",
           "zerolinewidth": 2
          }
         }
        },
        "title": {
         "text": "Russia - Sberbank Rossii PAO (SBER): Daily OHLCV"
        },
        "width": 900,
        "xaxis": {
         "anchor": "y",
         "domain": [
          0,
          0.94
         ]
        },
        "yaxis": {
         "anchor": "x",
         "domain": [
          0,
          1
         ],
         "title": {
          "text": "Price (USD)"
         }
        },
        "yaxis2": {
         "anchor": "x",
         "overlaying": "y",
         "side": "right"
        }
       }
      }
     },
     "metadata": {},
     "output_type": "display_data"
    }
   ],
   "source": [
    "# # Candlestick Chart and Volume Separately\n",
    "# # Source: https://medium.com/codex/creating-candlestick-charts-using-python-plotly-8081c4820351\n",
    "\n",
    "# from plotly.subplots import make_subplots\n",
    "\n",
    "# # figure with secondary y-axis\n",
    "# fig = make_subplots(specs=[[{\"secondary_y\": True}]])\n",
    "\n",
    "# # candlestick\n",
    "# fig.add_trace(\n",
    "#     go.Candlestick(\n",
    "#         x=train_df_1.index,\n",
    "#         open=train_df_1.Open,\n",
    "#         high=train_df_1.High,\n",
    "#         low=train_df_1.Low,\n",
    "#         close=train_df_1.Close,\n",
    "#         showlegend=False),\n",
    "#     row=1,\n",
    "#     col=1,\n",
    "#     secondary_y=True\n",
    "# )\n",
    "\n",
    "# # volume\n",
    "# fig.add_trace(\n",
    "#     go.Bar(x=train_df_1.index,\n",
    "#            y=train_df_1[\"Vol.\"],\n",
    "#            showlegend=False,\n",
    "#            marker={\n",
    "#                \"color\": \"grey\",\n",
    "#            }),\n",
    "#     secondary_y=False,\n",
    "# )\n",
    "\n",
    "# fig.update_layout(title=f\"{stock_name_1}: Daily OHLCV\",\n",
    "#                   yaxis_title=\"Price (USD)\",\n",
    "#                   width=900,\n",
    "#                   height=600)\n",
    "\n",
    "# fig.show()"
   ]
  },
  {
   "attachments": {},
   "cell_type": "markdown",
   "metadata": {},
   "source": [
    "if the target is short-term decision, \n",
    "\n",
    "bullish patterns -> price likely to rise => buy\n",
    "bearish patterns -> price likely to fall => sell\n",
    "\n",
    "If a candlestick pattern doesn’t indicate a change in market direction, it is what is known as a continuation pattern. These can help traders to identify a period of rest in the market, when there is market indecision or neutral price movement. => hold"
   ]
  },
  {
   "attachments": {},
   "cell_type": "markdown",
   "metadata": {},
   "source": [
    "https://neptune.ai/blog/predicting-stock-prices-using-machine-learning\n",
    "\n",
    "https://www.simplilearn.com/tutorials/machine-learning-tutorial/stock-price-prediction-using-machine-learning"
   ]
  },
  {
   "attachments": {},
   "cell_type": "markdown",
   "metadata": {},
   "source": []
  },
  {
   "attachments": {},
   "cell_type": "markdown",
   "metadata": {},
   "source": [
    "2. Create Bollinger Bands for 2020 for each company\n",
    "\n",
    "Typical values used:\n",
    "\n",
    "Short term: 10 day moving average, bands at 1.5 standard deviations. (1.5 times the standard dev. +/- the SMA)\n",
    "\n",
    "Medium term: 20 day moving average, bands at 2 standard deviations.\n",
    "\n",
    "Long term: 50 day moving average, bands at 2.5 standard deviations."
   ]
  },
  {
   "attachments": {},
   "cell_type": "markdown",
   "metadata": {},
   "source": [
    "From Semih:\n",
    "\n",
    "Typically bollinger bands are used to make buy and sell decisions if the predicted price is lower than the lowerbound—> buy if the predicted price is higher than the upperbound—> sell\n",
    "\n",
    "My interpretation is (the way I would approach) we can use bollinger bands to label the data. Afterwards a classifier or a recommendation system could be developed to predict buy and sell decisions. Based on the recommended actions a loss or profit could be calculated. I don’t think there is only one approach but this is how I would approach it."
   ]
  },
  {
   "cell_type": "code",
   "execution_count": 73,
   "metadata": {},
   "outputs": [
    {
     "data": {
      "image/png": "[encoded data removed]",
      "text/plain": [
       "<Figure size 1200x200 with 1 Axes>"
      ]
     },
     "metadata": {},
     "output_type": "display_data"
    }
   ],
   "source": [
    "import matplotlib.pyplot as plt\n",
    "\n",
    "# Define time period and calculate rolling mean and standard deviation\n",
    "time_period = 20\n",
    "rolling_mean = train_df_1['Close'].rolling(window=time_period).mean()\n",
    "rolling_std = train_df_1['Close'].rolling(window=time_period).std()\n",
    "\n",
    "# Calculate upper and lower Bollinger Bands\n",
    "upper_band = rolling_mean + (rolling_std * 2)\n",
    "lower_band = rolling_mean - (rolling_std * 2)\n",
    "\n",
    "# Plot the data and the Bollinger Bands\n",
    "ax = train_df_1['Close'].plot(label='Close')\n",
    "plt.plot(rolling_mean, label='Rolling Mean')\n",
    "ax.fill_between(\n",
    "    rolling_mean.index,\n",
    "    upper_band,\n",
    "    lower_band,\n",
    "    color='k', alpha=.2\n",
    ")\n",
    "# plt.plot(upper_band, label='Upper Bollinger Band')\n",
    "# plt.plot(lower_band, label='Lower Bollinger Band')\n",
    "plt.legend()\n",
    "plt.show()"
   ]
  },
  {
   "cell_type": "code",
   "execution_count": null,
   "metadata": {},
   "outputs": [],
   "source": []
  }
 ],
 "metadata": {
  "kernelspec": {
   "display_name": "Python 3",
   "language": "python",
   "name": "python3"
  },
  "language_info": {
   "codemirror_mode": {
    "name": "ipython",
    "version": 3
   },
   "file_extension": ".py",
   "mimetype": "text/x-python",
   "name": "python",
   "nbconvert_exporter": "python",
   "pygments_lexer": "ipython3",
   "version": "3.8.10"
  },
  "orig_nbformat": 4
 },
 "nbformat": 4,
 "nbformat_minor": 2
}
